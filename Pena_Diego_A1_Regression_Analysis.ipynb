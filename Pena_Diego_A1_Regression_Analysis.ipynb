{
 "cells": [
  {
   "cell_type": "code",
   "execution_count": 368,
   "id": "9c59c012",
   "metadata": {},
   "outputs": [
    {
     "data": {
      "text/plain": [
       "\"\\nPurpose: \\n    Predict the who is going to live and who won't in Game of Thrones .\\n    The steps are the following: \\n    1) Importing and analysing the data\\n    2) Missing values detection, Flagging and Imputation\\n    3) Feature Engineering \\n    4) Correlation Analysis\\n    5) Logistic Regression/KNN/ Decision Tree/Random Forest/ GBM Trials\\n    7) Comparing the score of different regression models   \\n\""
      ]
     },
     "execution_count": 368,
     "metadata": {},
     "output_type": "execute_result"
    }
   ],
   "source": [
    "\"\"\"\n",
    "Purpose: \n",
    "    Predict the who is going to live and who won't in Game of Thrones .\n",
    "    The steps are the following: \n",
    "    1) Importing and analysing the data\n",
    "    2) Missing values detection, Flagging and Imputation\n",
    "    3) Feature Engineering \n",
    "    4) Correlation Analysis\n",
    "    5) Logistic Regression/KNN/ Decision Tree/Random Forest/ GBM Trials\n",
    "    7) Comparing the score of different regression models   \n",
    "\"\"\""
   ]
  },
  {
   "cell_type": "markdown",
   "id": "deb135b6",
   "metadata": {},
   "source": [
    "# 1) Importing the whole dataset of Game Of Throne"
   ]
  },
  {
   "cell_type": "code",
   "execution_count": 369,
   "id": "1b3b43e2",
   "metadata": {},
   "outputs": [
    {
     "data": {
      "text/html": [
       "<div>\n",
       "<style scoped>\n",
       "    .dataframe tbody tr th:only-of-type {\n",
       "        vertical-align: middle;\n",
       "    }\n",
       "\n",
       "    .dataframe tbody tr th {\n",
       "        vertical-align: top;\n",
       "    }\n",
       "\n",
       "    .dataframe thead th {\n",
       "        text-align: right;\n",
       "    }\n",
       "</style>\n",
       "<table border=\"1\" class=\"dataframe\">\n",
       "  <thead>\n",
       "    <tr style=\"text-align: right;\">\n",
       "      <th></th>\n",
       "      <th>S.No</th>\n",
       "      <th>name</th>\n",
       "      <th>title</th>\n",
       "      <th>culture</th>\n",
       "      <th>dateOfBirth</th>\n",
       "      <th>mother</th>\n",
       "      <th>father</th>\n",
       "      <th>heir</th>\n",
       "      <th>house</th>\n",
       "      <th>spouse</th>\n",
       "      <th>...</th>\n",
       "      <th>isAliveMother</th>\n",
       "      <th>isAliveFather</th>\n",
       "      <th>isAliveHeir</th>\n",
       "      <th>isAliveSpouse</th>\n",
       "      <th>isMarried</th>\n",
       "      <th>isNoble</th>\n",
       "      <th>age</th>\n",
       "      <th>numDeadRelations</th>\n",
       "      <th>popularity</th>\n",
       "      <th>isAlive</th>\n",
       "    </tr>\n",
       "  </thead>\n",
       "  <tbody>\n",
       "    <tr>\n",
       "      <th>0</th>\n",
       "      <td>1</td>\n",
       "      <td>Viserys II Targaryen</td>\n",
       "      <td>NaN</td>\n",
       "      <td>NaN</td>\n",
       "      <td>NaN</td>\n",
       "      <td>Rhaenyra Targaryen</td>\n",
       "      <td>Daemon Targaryen</td>\n",
       "      <td>Aegon IV Targaryen</td>\n",
       "      <td>NaN</td>\n",
       "      <td>NaN</td>\n",
       "      <td>...</td>\n",
       "      <td>1.0</td>\n",
       "      <td>0.0</td>\n",
       "      <td>0.0</td>\n",
       "      <td>NaN</td>\n",
       "      <td>0</td>\n",
       "      <td>0</td>\n",
       "      <td>NaN</td>\n",
       "      <td>11</td>\n",
       "      <td>0.605351</td>\n",
       "      <td>0</td>\n",
       "    </tr>\n",
       "    <tr>\n",
       "      <th>1</th>\n",
       "      <td>2</td>\n",
       "      <td>Walder Frey</td>\n",
       "      <td>Lord of the Crossing</td>\n",
       "      <td>Rivermen</td>\n",
       "      <td>208.0</td>\n",
       "      <td>NaN</td>\n",
       "      <td>NaN</td>\n",
       "      <td>NaN</td>\n",
       "      <td>House Frey</td>\n",
       "      <td>Perra Royce</td>\n",
       "      <td>...</td>\n",
       "      <td>NaN</td>\n",
       "      <td>NaN</td>\n",
       "      <td>NaN</td>\n",
       "      <td>1.0</td>\n",
       "      <td>1</td>\n",
       "      <td>1</td>\n",
       "      <td>97.0</td>\n",
       "      <td>1</td>\n",
       "      <td>0.896321</td>\n",
       "      <td>1</td>\n",
       "    </tr>\n",
       "    <tr>\n",
       "      <th>2</th>\n",
       "      <td>3</td>\n",
       "      <td>Addison Hill</td>\n",
       "      <td>Ser</td>\n",
       "      <td>NaN</td>\n",
       "      <td>NaN</td>\n",
       "      <td>NaN</td>\n",
       "      <td>NaN</td>\n",
       "      <td>NaN</td>\n",
       "      <td>House Swyft</td>\n",
       "      <td>NaN</td>\n",
       "      <td>...</td>\n",
       "      <td>NaN</td>\n",
       "      <td>NaN</td>\n",
       "      <td>NaN</td>\n",
       "      <td>NaN</td>\n",
       "      <td>0</td>\n",
       "      <td>1</td>\n",
       "      <td>NaN</td>\n",
       "      <td>0</td>\n",
       "      <td>0.267559</td>\n",
       "      <td>1</td>\n",
       "    </tr>\n",
       "    <tr>\n",
       "      <th>3</th>\n",
       "      <td>4</td>\n",
       "      <td>Aemma Arryn</td>\n",
       "      <td>Queen</td>\n",
       "      <td>NaN</td>\n",
       "      <td>82.0</td>\n",
       "      <td>NaN</td>\n",
       "      <td>NaN</td>\n",
       "      <td>NaN</td>\n",
       "      <td>House Arryn</td>\n",
       "      <td>Viserys I Targaryen</td>\n",
       "      <td>...</td>\n",
       "      <td>NaN</td>\n",
       "      <td>NaN</td>\n",
       "      <td>NaN</td>\n",
       "      <td>0.0</td>\n",
       "      <td>1</td>\n",
       "      <td>1</td>\n",
       "      <td>23.0</td>\n",
       "      <td>0</td>\n",
       "      <td>0.183946</td>\n",
       "      <td>0</td>\n",
       "    </tr>\n",
       "    <tr>\n",
       "      <th>4</th>\n",
       "      <td>5</td>\n",
       "      <td>Sylva Santagar</td>\n",
       "      <td>Greenstone</td>\n",
       "      <td>Dornish</td>\n",
       "      <td>276.0</td>\n",
       "      <td>NaN</td>\n",
       "      <td>NaN</td>\n",
       "      <td>NaN</td>\n",
       "      <td>House Santagar</td>\n",
       "      <td>Eldon Estermont</td>\n",
       "      <td>...</td>\n",
       "      <td>NaN</td>\n",
       "      <td>NaN</td>\n",
       "      <td>NaN</td>\n",
       "      <td>1.0</td>\n",
       "      <td>1</td>\n",
       "      <td>1</td>\n",
       "      <td>29.0</td>\n",
       "      <td>0</td>\n",
       "      <td>0.043478</td>\n",
       "      <td>1</td>\n",
       "    </tr>\n",
       "    <tr>\n",
       "      <th>5</th>\n",
       "      <td>6</td>\n",
       "      <td>Tommen Baratheon</td>\n",
       "      <td>NaN</td>\n",
       "      <td>NaN</td>\n",
       "      <td>NaN</td>\n",
       "      <td>Cersei Lannister</td>\n",
       "      <td>Robert Baratheon</td>\n",
       "      <td>Myrcella Baratheon</td>\n",
       "      <td>NaN</td>\n",
       "      <td>NaN</td>\n",
       "      <td>...</td>\n",
       "      <td>1.0</td>\n",
       "      <td>1.0</td>\n",
       "      <td>1.0</td>\n",
       "      <td>NaN</td>\n",
       "      <td>0</td>\n",
       "      <td>0</td>\n",
       "      <td>NaN</td>\n",
       "      <td>5</td>\n",
       "      <td>1.000000</td>\n",
       "      <td>1</td>\n",
       "    </tr>\n",
       "    <tr>\n",
       "      <th>6</th>\n",
       "      <td>7</td>\n",
       "      <td>Valarr Targaryen</td>\n",
       "      <td>Hand of the King</td>\n",
       "      <td>Valyrian</td>\n",
       "      <td>183.0</td>\n",
       "      <td>NaN</td>\n",
       "      <td>NaN</td>\n",
       "      <td>NaN</td>\n",
       "      <td>House Targaryen</td>\n",
       "      <td>Kiera of Tyrosh</td>\n",
       "      <td>...</td>\n",
       "      <td>NaN</td>\n",
       "      <td>NaN</td>\n",
       "      <td>NaN</td>\n",
       "      <td>1.0</td>\n",
       "      <td>1</td>\n",
       "      <td>1</td>\n",
       "      <td>26.0</td>\n",
       "      <td>0</td>\n",
       "      <td>0.431438</td>\n",
       "      <td>0</td>\n",
       "    </tr>\n",
       "    <tr>\n",
       "      <th>7</th>\n",
       "      <td>8</td>\n",
       "      <td>Viserys I Targaryen</td>\n",
       "      <td>NaN</td>\n",
       "      <td>NaN</td>\n",
       "      <td>NaN</td>\n",
       "      <td>Alyssa Targaryen</td>\n",
       "      <td>Baelon Targaryen</td>\n",
       "      <td>Rhaenyra Targaryen</td>\n",
       "      <td>NaN</td>\n",
       "      <td>NaN</td>\n",
       "      <td>...</td>\n",
       "      <td>1.0</td>\n",
       "      <td>1.0</td>\n",
       "      <td>1.0</td>\n",
       "      <td>NaN</td>\n",
       "      <td>0</td>\n",
       "      <td>0</td>\n",
       "      <td>NaN</td>\n",
       "      <td>5</td>\n",
       "      <td>0.678930</td>\n",
       "      <td>0</td>\n",
       "    </tr>\n",
       "    <tr>\n",
       "      <th>8</th>\n",
       "      <td>9</td>\n",
       "      <td>Wilbert</td>\n",
       "      <td>Ser</td>\n",
       "      <td>NaN</td>\n",
       "      <td>NaN</td>\n",
       "      <td>NaN</td>\n",
       "      <td>NaN</td>\n",
       "      <td>NaN</td>\n",
       "      <td>NaN</td>\n",
       "      <td>NaN</td>\n",
       "      <td>...</td>\n",
       "      <td>NaN</td>\n",
       "      <td>NaN</td>\n",
       "      <td>NaN</td>\n",
       "      <td>NaN</td>\n",
       "      <td>0</td>\n",
       "      <td>1</td>\n",
       "      <td>NaN</td>\n",
       "      <td>0</td>\n",
       "      <td>0.006689</td>\n",
       "      <td>0</td>\n",
       "    </tr>\n",
       "    <tr>\n",
       "      <th>9</th>\n",
       "      <td>10</td>\n",
       "      <td>Wilbert Osgrey</td>\n",
       "      <td>Ser</td>\n",
       "      <td>NaN</td>\n",
       "      <td>NaN</td>\n",
       "      <td>NaN</td>\n",
       "      <td>NaN</td>\n",
       "      <td>NaN</td>\n",
       "      <td>House Osgrey</td>\n",
       "      <td>NaN</td>\n",
       "      <td>...</td>\n",
       "      <td>NaN</td>\n",
       "      <td>NaN</td>\n",
       "      <td>NaN</td>\n",
       "      <td>NaN</td>\n",
       "      <td>0</td>\n",
       "      <td>1</td>\n",
       "      <td>NaN</td>\n",
       "      <td>0</td>\n",
       "      <td>0.020067</td>\n",
       "      <td>1</td>\n",
       "    </tr>\n",
       "  </tbody>\n",
       "</table>\n",
       "<p>10 rows × 25 columns</p>\n",
       "</div>"
      ],
      "text/plain": [
       "   S.No                  name                 title   culture  dateOfBirth  \\\n",
       "0     1  Viserys II Targaryen                   NaN       NaN          NaN   \n",
       "1     2           Walder Frey  Lord of the Crossing  Rivermen        208.0   \n",
       "2     3          Addison Hill                   Ser       NaN          NaN   \n",
       "3     4           Aemma Arryn                 Queen       NaN         82.0   \n",
       "4     5        Sylva Santagar            Greenstone   Dornish        276.0   \n",
       "5     6      Tommen Baratheon                   NaN       NaN          NaN   \n",
       "6     7      Valarr Targaryen      Hand of the King  Valyrian        183.0   \n",
       "7     8   Viserys I Targaryen                   NaN       NaN          NaN   \n",
       "8     9               Wilbert                   Ser       NaN          NaN   \n",
       "9    10        Wilbert Osgrey                   Ser       NaN          NaN   \n",
       "\n",
       "               mother            father                heir            house  \\\n",
       "0  Rhaenyra Targaryen  Daemon Targaryen  Aegon IV Targaryen              NaN   \n",
       "1                 NaN               NaN                 NaN       House Frey   \n",
       "2                 NaN               NaN                 NaN      House Swyft   \n",
       "3                 NaN               NaN                 NaN      House Arryn   \n",
       "4                 NaN               NaN                 NaN   House Santagar   \n",
       "5    Cersei Lannister  Robert Baratheon  Myrcella Baratheon              NaN   \n",
       "6                 NaN               NaN                 NaN  House Targaryen   \n",
       "7    Alyssa Targaryen  Baelon Targaryen  Rhaenyra Targaryen              NaN   \n",
       "8                 NaN               NaN                 NaN              NaN   \n",
       "9                 NaN               NaN                 NaN     House Osgrey   \n",
       "\n",
       "                spouse  ...  isAliveMother  isAliveFather  isAliveHeir  \\\n",
       "0                  NaN  ...            1.0            0.0          0.0   \n",
       "1          Perra Royce  ...            NaN            NaN          NaN   \n",
       "2                  NaN  ...            NaN            NaN          NaN   \n",
       "3  Viserys I Targaryen  ...            NaN            NaN          NaN   \n",
       "4      Eldon Estermont  ...            NaN            NaN          NaN   \n",
       "5                  NaN  ...            1.0            1.0          1.0   \n",
       "6      Kiera of Tyrosh  ...            NaN            NaN          NaN   \n",
       "7                  NaN  ...            1.0            1.0          1.0   \n",
       "8                  NaN  ...            NaN            NaN          NaN   \n",
       "9                  NaN  ...            NaN            NaN          NaN   \n",
       "\n",
       "   isAliveSpouse  isMarried  isNoble   age  numDeadRelations  popularity  \\\n",
       "0            NaN          0        0   NaN                11    0.605351   \n",
       "1            1.0          1        1  97.0                 1    0.896321   \n",
       "2            NaN          0        1   NaN                 0    0.267559   \n",
       "3            0.0          1        1  23.0                 0    0.183946   \n",
       "4            1.0          1        1  29.0                 0    0.043478   \n",
       "5            NaN          0        0   NaN                 5    1.000000   \n",
       "6            1.0          1        1  26.0                 0    0.431438   \n",
       "7            NaN          0        0   NaN                 5    0.678930   \n",
       "8            NaN          0        1   NaN                 0    0.006689   \n",
       "9            NaN          0        1   NaN                 0    0.020067   \n",
       "\n",
       "   isAlive  \n",
       "0        0  \n",
       "1        1  \n",
       "2        1  \n",
       "3        0  \n",
       "4        1  \n",
       "5        1  \n",
       "6        0  \n",
       "7        0  \n",
       "8        0  \n",
       "9        1  \n",
       "\n",
       "[10 rows x 25 columns]"
      ]
     },
     "execution_count": 369,
     "metadata": {},
     "output_type": "execute_result"
    }
   ],
   "source": [
    "# importing libraries\n",
    "import pandas            as pd                       # data science essentials\n",
    "import matplotlib.pyplot as plt                      # data visualization\n",
    "import seaborn           as sns                      # enhanced data viz\n",
    "from sklearn.model_selection import train_test_split # train-test split\n",
    "from sklearn.linear_model import LogisticRegression  # logistic regression\n",
    "import statsmodels.formula.api as smf                # logistic regression\n",
    "from sklearn.metrics import confusion_matrix         # confusion matrix\n",
    "from sklearn.metrics import roc_auc_score            # auc score\n",
    "from sklearn.neighbors import KNeighborsClassifier   # KNN for classification\n",
    "from sklearn.neighbors import KNeighborsRegressor    # KNN for regression\n",
    "from sklearn.preprocessing import StandardScaler     # standard scaler\n",
    "from sklearn.tree import DecisionTreeClassifier      # classification trees\n",
    "from sklearn.tree import plot_tree                   # tree plots\n",
    "import numpy as np                                   # numpu\n",
    "from sklearn.neighbors import KNeighborsRegressor # KNN for Regression\n",
    "from sklearn.preprocessing import StandardScaler # standard scaler\n",
    "#declaring the file name\n",
    "file = './GOT_character_predictions.xlsx'\n",
    "\n",
    "#storing the excel into a dataframe variable\n",
    "got = pd.read_excel(io = file)\n",
    "#opening the excel \n",
    "got.head(n = 10)"
   ]
  },
  {
   "cell_type": "markdown",
   "id": "3462d060",
   "metadata": {},
   "source": [
    "# 2) Missing values detection, Flagging and Imputation"
   ]
  },
  {
   "cell_type": "markdown",
   "id": "8880f197",
   "metadata": {},
   "source": [
    "## Checking for missing values"
   ]
  },
  {
   "cell_type": "code",
   "execution_count": 370,
   "id": "b0bf218e",
   "metadata": {},
   "outputs": [
    {
     "data": {
      "text/plain": [
       "S.No                             0\n",
       "name                             0\n",
       "title                         1008\n",
       "culture                       1269\n",
       "dateOfBirth                   1513\n",
       "mother                        1925\n",
       "father                        1920\n",
       "heir                          1923\n",
       "house                          427\n",
       "spouse                        1670\n",
       "book1_A_Game_Of_Thrones          0\n",
       "book2_A_Clash_Of_Kings           0\n",
       "book3_A_Storm_Of_Swords          0\n",
       "book4_A_Feast_For_Crows          0\n",
       "book5_A_Dance_with_Dragons       0\n",
       "isAliveMother                 1925\n",
       "isAliveFather                 1920\n",
       "isAliveHeir                   1923\n",
       "isAliveSpouse                 1670\n",
       "isMarried                        0\n",
       "isNoble                          0\n",
       "age                           1513\n",
       "numDeadRelations                 0\n",
       "popularity                       0\n",
       "isAlive                          0\n",
       "dtype: int64"
      ]
     },
     "execution_count": 370,
     "metadata": {},
     "output_type": "execute_result"
    }
   ],
   "source": [
    "got.isnull().sum()"
   ]
  },
  {
   "cell_type": "markdown",
   "id": "4f2f4bc9",
   "metadata": {},
   "source": [
    "## Creating flag columns for the missing values"
   ]
  },
  {
   "cell_type": "code",
   "execution_count": 371,
   "id": "012eb783",
   "metadata": {
    "scrolled": true
   },
   "outputs": [],
   "source": [
    "#for every col in got df \n",
    "for col in got:\n",
    "    #analizing if each column has missing value\n",
    "    if got[col].isnull().sum() > 0:\n",
    "        #creating a m column\n",
    "        got['m_' + col] = got[col].isnull().astype(int)"
   ]
  },
  {
   "cell_type": "markdown",
   "id": "47d35b57",
   "metadata": {},
   "source": [
    "## Imputing missing values"
   ]
  },
  {
   "cell_type": "markdown",
   "id": "640f0f52",
   "metadata": {},
   "source": [
    "#### Replacing with the word  \"empty\" in object columns and with the mean, Age and Date of Birth. Imput with median the age and date of birth"
   ]
  },
  {
   "cell_type": "code",
   "execution_count": 372,
   "id": "ae775457",
   "metadata": {},
   "outputs": [],
   "source": [
    "got_drop = got.dropna()\n",
    "for col in got:\n",
    "    if got[col].dtypes == 'object':\n",
    "        value = 'empty'\n",
    "        got[col].fillna(value = value,\n",
    "                        inplace = True)\n",
    "    elif got[col].dtypes == 'int64' or got[col].dtypes == 'float64' and col[:2] == 'is':\n",
    "        value = -1\n",
    "        got[col].fillna(value = value,\n",
    "                        inplace = True)    \n",
    "    else:\n",
    "        continue\n",
    "        \n",
    "med_age = got['age'].median()\n",
    "got['age'].fillna(value = med_age,\n",
    "                        inplace = True)\n",
    "\n",
    "med_age = got['dateOfBirth'].median()\n",
    "got['dateOfBirth'].fillna(value = value,\n",
    "                        inplace = True)\n",
    "\n",
    "\n",
    "    "
   ]
  },
  {
   "cell_type": "markdown",
   "id": "e233045a",
   "metadata": {},
   "source": [
    "## Checking for missing values "
   ]
  },
  {
   "cell_type": "code",
   "execution_count": 373,
   "id": "046ec92e",
   "metadata": {
    "scrolled": true
   },
   "outputs": [
    {
     "data": {
      "text/plain": [
       "S.No                          0\n",
       "name                          0\n",
       "title                         0\n",
       "culture                       0\n",
       "dateOfBirth                   0\n",
       "mother                        0\n",
       "father                        0\n",
       "heir                          0\n",
       "house                         0\n",
       "spouse                        0\n",
       "book1_A_Game_Of_Thrones       0\n",
       "book2_A_Clash_Of_Kings        0\n",
       "book3_A_Storm_Of_Swords       0\n",
       "book4_A_Feast_For_Crows       0\n",
       "book5_A_Dance_with_Dragons    0\n",
       "isAliveMother                 0\n",
       "isAliveFather                 0\n",
       "isAliveHeir                   0\n",
       "isAliveSpouse                 0\n",
       "isMarried                     0\n",
       "isNoble                       0\n",
       "age                           0\n",
       "numDeadRelations              0\n",
       "popularity                    0\n",
       "isAlive                       0\n",
       "m_title                       0\n",
       "m_culture                     0\n",
       "m_dateOfBirth                 0\n",
       "m_mother                      0\n",
       "m_father                      0\n",
       "m_heir                        0\n",
       "m_house                       0\n",
       "m_spouse                      0\n",
       "m_isAliveMother               0\n",
       "m_isAliveFather               0\n",
       "m_isAliveHeir                 0\n",
       "m_isAliveSpouse               0\n",
       "m_age                         0\n",
       "dtype: int64"
      ]
     },
     "execution_count": 373,
     "metadata": {},
     "output_type": "execute_result"
    }
   ],
   "source": [
    "got.isnull().sum()"
   ]
  },
  {
   "cell_type": "markdown",
   "id": "eb3bc44d",
   "metadata": {},
   "source": [
    "# 3) Feature Engineering "
   ]
  },
  {
   "cell_type": "markdown",
   "id": "012fe787",
   "metadata": {},
   "source": [
    "## Gender Guessing"
   ]
  },
  {
   "cell_type": "code",
   "execution_count": 374,
   "id": "06a2a91d",
   "metadata": {},
   "outputs": [],
   "source": [
    "\n",
    "\n",
    "# import gender_guesser.detector as gender\n",
    "# # STEP 1: splitting names and surnames\n",
    "\n",
    "# # placeholder list\n",
    "# placeholder_lst = []\n",
    "\n",
    "# # looping over each name \n",
    "# for index, col in got.iterrows():\n",
    "    \n",
    "#     # splitting name by space\n",
    "#     split_name = got.loc[index, 'name'].split(sep = ' ')\n",
    "    \n",
    "#     # appending placeholder_lst with the results\n",
    "#     placeholder_lst.append(split_name)\n",
    "    \n",
    "\n",
    "# # converting placeholder_lst into a DataFrame \n",
    "# name_df = pd.DataFrame(placeholder_lst)\n",
    "\n",
    "\n",
    "# #renaming the columns \n",
    "# name_df.columns = ['name_1' , 'name_2', 'name_3','name_4', 'name_5', 'name_6']\n",
    "# #concatening the name 1 with the dataset\n",
    "\n",
    "# got = pd.concat([got, name_df['name_1']],\n",
    "#                      axis = 1)\n",
    "\n",
    "# # guessing gender based on (given) name\n",
    "\n",
    "# # placeholder list\n",
    "# placeholder_lst = []\n",
    "\n",
    "\n",
    "# # looping to guess gender\n",
    "# for name in got['name_1']:\n",
    "#     guess = gender.Detector().get_gender(name)\n",
    "#     placeholder_lst.append(guess)\n",
    "\n",
    "\n",
    "# # converting list into a series\n",
    "# got['gender_guess'] = pd.Series(placeholder_lst)\n",
    "\n",
    "# got_copy = pd.DataFrame.copy(got)\n",
    "\n"
   ]
  },
  {
   "cell_type": "markdown",
   "id": "53a310ee",
   "metadata": {},
   "source": [
    "## Storing the list of gender guess into a variable"
   ]
  },
  {
   "cell_type": "code",
   "execution_count": 375,
   "id": "f165e557",
   "metadata": {},
   "outputs": [],
   "source": [
    "gender_guess = ['unknown', 'unknown', 'andy', 'unknown', 'female', 'unknown', 'unknown', 'unknown', 'male', 'male', 'mostly_male', 'mostly_male', 'mostly_male', 'mostly_male', 'mostly_male', 'mostly_male', 'unknown', 'male', 'unknown', 'unknown', 'male', 'male', 'female', 'unknown', 'unknown', 'female', 'unknown', 'unknown', 'unknown', 'unknown', 'unknown', 'unknown', 'unknown', 'unknown', 'unknown', 'unknown', 'unknown', 'unknown', 'unknown', 'unknown', 'unknown', 'mostly_female', 'unknown', 'unknown', 'unknown', 'unknown', 'unknown', 'female', 'unknown', 'unknown', 'male', 'unknown', 'unknown', 'unknown', 'unknown', 'unknown', 'unknown', 'unknown', 'unknown', 'unknown', 'unknown', 'unknown', 'unknown', 'unknown', 'male', 'unknown', 'unknown', 'unknown', 'unknown', 'unknown', 'unknown', 'female', 'unknown', 'unknown', 'unknown', 'male', 'male', 'andy', 'andy', 'unknown', 'andy', 'unknown', 'unknown', 'unknown', 'unknown', 'unknown', 'unknown', 'unknown', 'unknown', 'unknown', 'unknown', 'female', 'male', 'male', 'unknown', 'male', 'male', 'male', 'male', 'male', 'male', 'male', 'mostly_male', 'male', 'mostly_male', 'mostly_male', 'unknown', 'unknown', 'unknown', 'male', 'unknown', 'male', 'unknown', 'male', 'unknown', 'male', 'unknown', 'unknown', 'male', 'unknown', 'unknown', 'unknown', 'unknown', 'unknown', 'unknown', 'female', 'unknown', 'mostly_male', 'unknown', 'unknown', 'male', 'female', 'andy', 'unknown', 'unknown', 'unknown', 'unknown', 'unknown', 'unknown', 'unknown', 'unknown', 'unknown', 'mostly_male', 'unknown', 'unknown', 'unknown', 'unknown', 'unknown', 'unknown', 'female', 'unknown', 'female', 'unknown', 'unknown', 'unknown', 'unknown', 'unknown', 'male', 'mostly_female', 'unknown', 'unknown', 'unknown', 'unknown', 'unknown', 'unknown', 'unknown', 'unknown', 'unknown', 'unknown', 'male', 'unknown', 'unknown', 'unknown', 'unknown', 'male', 'unknown', 'unknown', 'unknown', 'male', 'unknown', 'unknown', 'andy', 'female', 'unknown', 'unknown', 'unknown', 'unknown', 'male', 'unknown', 'male', 'male', 'unknown', 'unknown', 'unknown', 'male', 'male', 'unknown', 'unknown', 'unknown', 'unknown', 'unknown', 'male', 'unknown', 'unknown', 'unknown', 'unknown', 'unknown', 'unknown', 'unknown', 'unknown', 'male', 'unknown', 'unknown', 'unknown', 'unknown', 'unknown', 'unknown', 'unknown', 'unknown', 'unknown', 'unknown', 'male', 'unknown', 'unknown', 'male', 'unknown', 'unknown', 'unknown', 'unknown', 'unknown', 'unknown', 'unknown', 'unknown', 'unknown', 'unknown', 'unknown', 'unknown', 'unknown', 'unknown', 'female', 'male', 'female', 'female', 'female', 'female', 'female', 'female', 'unknown', 'unknown', 'unknown', 'unknown', 'unknown', 'male', 'unknown', 'unknown', 'unknown', 'unknown', 'unknown', 'unknown', 'unknown', 'unknown', 'unknown', 'unknown', 'unknown', 'male', 'unknown', 'unknown', 'unknown', 'unknown', 'unknown', 'unknown', 'unknown', 'unknown', 'unknown', 'unknown', 'unknown', 'unknown', 'unknown', 'unknown', 'unknown', 'unknown', 'unknown', 'unknown', 'unknown', 'unknown', 'unknown', 'unknown', 'unknown', 'unknown', 'unknown', 'unknown', 'unknown', 'unknown', 'unknown', 'unknown', 'male', 'unknown', 'unknown', 'unknown', 'unknown', 'female', 'unknown', 'unknown', 'unknown', 'unknown', 'female', 'unknown', 'mostly_female', 'female', 'unknown', 'mostly_female', 'unknown', 'female', 'unknown', 'female', 'unknown', 'male', 'male', 'unknown', 'male', 'unknown', 'unknown', 'unknown', 'male', 'unknown', 'male', 'unknown', 'andy', 'unknown', 'unknown', 'unknown', 'unknown', 'unknown', 'unknown', 'unknown', 'unknown', 'female', 'unknown', 'unknown', 'unknown', 'female', 'unknown', 'unknown', 'unknown', 'unknown', 'unknown', 'female', 'male', 'male', 'male', 'male', 'male', 'unknown', 'unknown', 'male', 'unknown', 'unknown', 'unknown', 'unknown', 'male', 'unknown', 'unknown', 'female', 'female', 'female', 'unknown', 'unknown', 'unknown', 'male', 'unknown', 'unknown', 'unknown', 'unknown', 'male', 'male', 'male', 'male', 'male', 'male', 'unknown', 'unknown', 'unknown', 'unknown', 'unknown', 'unknown', 'unknown', 'male', 'unknown', 'male', 'unknown', 'unknown', 'unknown', 'unknown', 'unknown', 'male', 'unknown', 'unknown', 'unknown', 'unknown', 'unknown', 'unknown', 'mostly_female', 'unknown', 'unknown', 'unknown', 'unknown', 'male', 'unknown', 'unknown', 'unknown', 'unknown', 'unknown', 'unknown', 'male', 'male', 'male', 'male', 'unknown', 'male', 'unknown', 'unknown', 'male', 'unknown', 'unknown', 'unknown', 'mostly_male', 'unknown', 'unknown', 'unknown', 'unknown', 'unknown', 'unknown', 'unknown', 'unknown', 'unknown', 'unknown', 'unknown', 'unknown', 'unknown', 'unknown', 'mostly_male', 'female', 'male', 'male', 'male', 'female', 'unknown', 'unknown', 'female', 'unknown', 'unknown', 'male', 'male', 'male', 'female', 'unknown', 'male', 'unknown', 'unknown', 'unknown', 'unknown', 'female', 'unknown', 'unknown', 'unknown', 'female', 'unknown', 'andy', 'unknown', 'unknown', 'male', 'unknown', 'unknown', 'unknown', 'unknown', 'unknown', 'unknown', 'male', 'unknown', 'female', 'male', 'unknown', 'unknown', 'female', 'male', 'unknown', 'male', 'unknown', 'unknown', 'male', 'female', 'female', 'unknown', 'unknown', 'unknown', 'unknown', 'unknown', 'male', 'unknown', 'unknown', 'unknown', 'unknown', 'unknown', 'unknown', 'unknown', 'unknown', 'female', 'unknown', 'female', 'female', 'unknown', 'unknown', 'unknown', 'unknown', 'unknown', 'unknown', 'male', 'unknown', 'unknown', 'male', 'unknown', 'unknown', 'male', 'unknown', 'unknown', 'unknown', 'male', 'male', 'male', 'unknown', 'male', 'unknown', 'unknown', 'male', 'unknown', 'unknown', 'unknown', 'male', 'unknown', 'unknown', 'unknown', 'unknown', 'unknown', 'unknown', 'unknown', 'unknown', 'unknown', 'unknown', 'unknown', 'male', 'unknown', 'unknown', 'unknown', 'unknown', 'unknown', 'unknown', 'unknown', 'unknown', 'unknown', 'unknown', 'unknown', 'unknown', 'unknown', 'unknown', 'unknown', 'unknown', 'unknown', 'unknown', 'unknown', 'unknown', 'female', 'unknown', 'male', 'male', 'unknown', 'unknown', 'unknown', 'male', 'unknown', 'unknown', 'unknown', 'unknown', 'unknown', 'unknown', 'unknown', 'unknown', 'unknown', 'unknown', 'unknown', 'unknown', 'male', 'unknown', 'unknown', 'unknown', 'unknown', 'unknown', 'unknown', 'unknown', 'female', 'unknown', 'male', 'unknown', 'male', 'male', 'unknown', 'unknown', 'male', 'male', 'unknown', 'male', 'unknown', 'male', 'unknown', 'unknown', 'unknown', 'unknown', 'unknown', 'unknown', 'unknown', 'unknown', 'unknown', 'male', 'unknown', 'unknown', 'unknown', 'male', 'female', 'unknown', 'unknown', 'female', 'unknown', 'unknown', 'unknown', 'unknown', 'unknown', 'unknown', 'unknown', 'female', 'unknown', 'female', 'female', 'female', 'unknown', 'unknown', 'male', 'male', 'male', 'male', 'male', 'male', 'male', 'male', 'male', 'male', 'unknown', 'unknown', 'unknown', 'unknown', 'unknown', 'male', 'male', 'unknown', 'male', 'unknown', 'unknown', 'unknown', 'unknown', 'unknown', 'unknown', 'unknown', 'unknown', 'unknown', 'mostly_male', 'unknown', 'unknown', 'unknown', 'unknown', 'unknown', 'mostly_female', 'mostly_female', 'mostly_female', 'unknown', 'female', 'unknown', 'unknown', 'unknown', 'unknown', 'unknown', 'unknown', 'unknown', 'female', 'unknown', 'unknown',\n",
    " 'unknown', 'unknown', 'unknown', 'male', 'female', 'male', 'male', 'male', 'male', 'unknown', 'female', 'female', \n",
    " 'female', 'unknown', 'mostly_male', 'unknown', 'unknown', 'male', 'unknown', 'male', 'unknown', 'unknown', 'unknown',\n",
    " 'unknown', 'unknown', 'male', 'male', 'unknown', 'unknown', 'unknown', 'unknown', 'male', 'male', 'unknown', 'unknown', 'unknown', 'unknown', 'unknown', 'unknown', 'male', 'male', 'male', 'female', 'male', 'female', 'unknown', 'unknown', 'female', 'male', 'unknown', 'unknown', 'unknown', 'unknown', 'male', 'male', 'male', 'unknown', 'unknown', 'female', 'unknown', 'female', 'unknown', 'male', 'unknown', 'unknown', 'unknown', 'male', 'male', 'male', 'unknown', 'unknown', 'unknown', 'unknown', 'unknown', 'unknown', 'unknown', 'unknown', 'unknown', 'unknown', 'unknown', 'unknown', 'unknown', 'unknown', 'unknown', 'unknown', 'male', 'unknown', 'unknown', 'unknown', 'unknown', 'unknown', 'unknown', 'unknown', 'unknown', 'unknown', 'unknown', 'male', 'unknown', 'unknown', 'unknown', 'unknown', 'unknown', 'unknown', 'unknown', 'unknown', 'unknown', 'male', 'female', 'unknown', 'male', 'unknown', 'unknown', 'mostly_female', 'male', 'female', 'male', 'unknown', 'unknown', 'unknown', 'unknown', 'unknown', 'unknown', 'unknown', 'unknown', 'unknown', 'unknown', 'unknown', 'unknown', 'unknown', 'unknown', 'unknown', 'unknown', 'unknown', 'unknown', 'male', 'male', 'male', 'unknown', 'unknown', 'unknown', 'unknown', 'unknown', 'unknown', 'unknown', 'unknown', 'male', 'male', 'male', 'unknown', 'unknown', 'unknown', 'unknown', 'unknown', 'unknown', 'unknown', 'unknown', 'female', 'female', 'unknown', 'unknown', 'male', 'unknown', 'unknown', 'unknown', 'unknown', 'unknown', 'unknown', 'male', 'unknown', 'unknown', 'unknown', 'unknown', 'unknown', 'unknown', 'unknown', 'unknown', 'unknown', 'unknown', 'unknown', 'unknown', 'unknown', 'unknown', 'unknown', 'unknown', 'unknown', 'unknown', 'unknown', 'unknown', 'unknown', 'male', 'unknown', 'male', 'unknown', 'male', 'male', 'female', 'mostly_female', 'female', 'mostly_female', 'mostly_female', 'mostly_female', 'mostly_female', 'mostly_female', 'mostly_female', 'unknown', 'unknown', 'female', 'female', 'unknown', 'unknown', 'male', 'unknown', 'unknown', 'unknown', 'male', 'unknown', 'unknown', 'female', 'unknown', 'male', 'male', 'unknown', 'unknown', 'unknown', 'unknown', 'unknown', 'unknown', 'unknown', 'unknown', 'unknown', 'unknown', 'unknown', 'unknown', 'unknown', 'unknown', 'male', 'unknown', 'unknown', 'female', 'unknown', 'female', 'unknown', 'unknown', 'female', 'female', 'unknown', 'unknown', 'unknown', 'unknown', 'unknown', 'male', 'male', 'male', 'unknown', 'unknown', 'male', 'unknown', 'unknown', 'unknown', 'unknown', 'unknown', 'unknown', 'unknown', 'unknown', 'male', 'male', 'unknown', 'unknown', 'unknown', 'male', 'unknown', 'female', 'male', 'unknown', 'unknown', 'unknown', 'unknown', 'unknown', 'unknown', 'unknown', 'unknown', 'unknown', 'male', 'male', 'male', 'unknown', 'unknown', 'unknown', 'unknown', 'unknown', 'female', 'unknown', 'female', 'unknown', 'unknown', 'male', 'male', 'male', 'male', 'male', 'unknown', 'unknown', 'unknown', 'male', 'male', 'unknown', 'unknown', 'unknown', 'unknown', 'unknown', 'unknown', 'unknown', 'unknown', 'unknown', 'unknown', 'unknown', 'unknown', 'unknown', 'unknown', 'unknown', 'unknown', 'male', 'female', 'mostly_male', 'unknown', 'female', 'male', 'male', 'male', 'unknown', 'unknown', 'unknown', 'unknown', 'unknown', 'unknown', 'unknown', 'unknown', 'unknown', 'unknown', 'unknown', 'unknown', 'unknown', 'unknown', 'male', 'unknown', 'unknown', 'male', 'male', 'male', 'male', 'male', 'unknown', 'unknown', 'male', 'male', 'unknown', 'unknown', 'unknown', 'male', 'unknown', 'unknown', 'male', 'male', 'unknown', 'male', 'male', 'unknown', 'unknown', 'unknown', 'unknown', 'unknown', 'unknown', 'unknown', 'unknown', 'unknown', 'unknown', 'unknown', 'unknown', 'unknown', 'unknown', 'unknown', 'unknown', 'unknown', 'unknown', 'unknown', 'unknown', 'unknown', 'unknown', 'male', 'male', 'male', 'unknown', 'unknown', 'unknown', 'unknown', 'unknown', 'unknown', 'unknown', 'unknown', 'unknown', 'unknown', 'unknown', 'unknown', 'unknown', 'unknown', 'unknown', 'unknown', 'unknown', 'male', 'unknown', 'male', 'unknown', 'unknown', 'unknown', 'unknown', 'unknown', 'male', 'unknown', 'unknown', 'unknown', 'female', 'unknown', 'male', 'male', 'male', 'male', 'unknown', 'unknown', 'unknown', 'unknown', 'unknown', 'unknown', 'unknown', 'male', 'male', 'male', 'male', 'male', 'male', 'male', 'male', 'unknown', 'unknown', 'unknown', 'unknown', 'unknown', 'unknown', 'unknown', 'unknown', 'female', 'unknown', 'unknown', 'unknown', 'unknown', 'unknown', 'unknown', 'unknown', 'female', 'female', 'male', 'unknown', 'unknown', 'unknown', 'unknown', 'unknown', 'unknown', 'male', 'male', 'female', 'unknown', 'female', 'male', 'unknown', 'unknown', 'unknown', 'unknown', 'unknown', 'unknown', 'male', 'male', 'male', 'unknown', 'unknown', 'unknown', 'unknown', 'unknown', 'unknown', 'unknown', 'male', 'unknown', 'male', 'unknown', 'unknown', 'male', 'unknown', 'female', 'unknown', 'unknown', 'unknown', 'mostly_male', 'male', 'unknown', 'unknown', 'male', 'male', 'male', 'unknown', 'female', 'unknown', 'unknown', 'unknown', 'unknown', 'female', 'unknown', 'female', 'female', 'female', 'male', 'male', 'unknown', 'unknown', 'unknown', 'male', 'male', 'unknown', 'male', 'unknown', 'unknown', 'unknown', 'unknown', 'unknown', 'unknown', 'unknown', 'unknown', 'unknown', 'unknown', 'unknown', 'unknown', 'female', 'unknown', 'unknown', 'unknown', 'female', 'unknown', 'unknown', 'unknown', 'unknown', 'unknown', 'male', 'unknown', 'unknown', 'unknown', 'female', 'unknown', 'unknown', 'unknown', 'unknown', 'male', 'male', 'unknown', 'male', 'unknown', 'female', 'unknown', 'unknown', 'male', 'unknown', 'unknown', 'unknown', 'unknown', 'unknown', 'male', 'unknown', 'unknown', 'unknown', 'unknown', 'male', 'male', 'male', 'unknown', 'unknown', 'male', 'unknown', 'unknown', 'male', 'unknown', 'male', 'unknown', 'unknown', 'unknown', 'unknown', 'unknown', 'unknown', 'male', 'male', 'unknown', 'unknown', 'unknown', 'unknown', 'unknown', 'unknown', 'unknown', 'unknown', 'unknown', 'male', 'unknown', 'male', 'unknown', 'male', 'male', 'andy', 'male', 'male', 'unknown', 'unknown', 'unknown', 'female', 'unknown', 'female', 'unknown', 'male', 'male', 'male', 'male', 'male', 'male', 'mostly_male', 'mostly_male', 'mostly_male', 'mostly_male', 'unknown', 'unknown', 'unknown', 'male', 'unknown', 'male', 'male', 'unknown', 'male', 'male', 'unknown', 'male', 'male', 'unknown', 'unknown', 'male', 'unknown', 'unknown', 'unknown', 'unknown', 'unknown', 'unknown', 'unknown', 'unknown', 'unknown', 'unknown', 'unknown', 'unknown', 'unknown', 'unknown', 'unknown', 'unknown', 'male', 'unknown', 'unknown', 'unknown', 'female', 'female', 'unknown', 'unknown', 'unknown', 'male', 'unknown', 'unknown', 'unknown', 'unknown', 'unknown', 'unknown', 'unknown', 'unknown', 'unknown', 'unknown', 'unknown', 'male', 'unknown', 'unknown', 'male', 'unknown', 'unknown', 'unknown', 'unknown', 'unknown', 'male', 'unknown', 'male', 'male', 'unknown', 'unknown', 'male', 'unknown', 'male', 'unknown', 'unknown', 'unknown', 'unknown', 'unknown', 'unknown', 'unknown', 'unknown', 'unknown', 'male', 'male', 'male', 'male', 'unknown', 'unknown', 'unknown', 'unknown', 'unknown', 'unknown', 'unknown', 'unknown', 'unknown', 'unknown', 'unknown', 'unknown', 'unknown', 'unknown', 'unknown', 'unknown', 'unknown', 'unknown', 'unknown', 'unknown', 'unknown', 'unknown', 'female', 'unknown', 'unknown', 'unknown', 'unknown', 'male', 'unknown', 'unknown', 'male', 'male', 'unknown', 'unknown', 'male', 'unknown', 'unknown', 'unknown', 'male', 'unknown', 'male', 'male', 'unknown', 'male', 'unknown', 'unknown', 'unknown', 'male', 'unknown', 'male', 'unknown', 'unknown', 'unknown', 'unknown', 'unknown', 'unknown', 'unknown', 'male', 'male', 'unknown', 'unknown', 'female', 'male', 'unknown', 'unknown', 'unknown', 'unknown', 'unknown', 'unknown', 'mostly_male', 'unknown', 'unknown', 'unknown', 'male', 'unknown', 'unknown', 'male', 'unknown', 'unknown', 'unknown', 'unknown', 'unknown', 'male', 'unknown', 'unknown', 'unknown', 'unknown', 'female', 'female', 'unknown', \n",
    " 'unknown', 'unknown', 'unknown', 'unknown', 'male', 'unknown', 'male', 'unknown', 'unknown', 'male', 'unknown', 'unknown', 'mostly_female', 'unknown', 'male', 'unknown', 'unknown', 'unknown', 'unknown', 'unknown', 'unknown', 'unknown', 'male', 'unknown', 'unknown', 'unknown', 'male', 'male', 'unknown', 'unknown', 'unknown', 'male', 'male', 'unknown', 'unknown', 'unknown', 'unknown', 'unknown', 'mostly_female', 'unknown', 'unknown', 'male', 'unknown', 'unknown', 'male', 'male', 'mostly_female', 'unknown', 'unknown', 'unknown', 'unknown', 'unknown', 'male', 'unknown', 'female', 'unknown', 'female', 'unknown', 'female', 'unknown', 'female', 'unknown', 'unknown', 'unknown', 'unknown', 'unknown', 'unknown', 'andy', 'unknown', 'unknown', 'unknown', 'unknown', 'unknown', 'male', 'unknown', 'female', 'unknown', 'male', 'unknown', 'unknown', 'unknown', 'unknown', 'unknown', 'unknown', 'unknown', 'unknown', 'unknown', 'unknown', 'unknown', 'unknown', 'male', 'unknown', 'unknown', 'male', 'unknown', 'unknown', 'unknown', 'unknown', 'female', 'unknown', 'male', 'unknown', 'unknown', 'unknown', 'unknown', 'unknown', 'unknown', 'unknown', 'male', 'male', 'unknown', 'unknown', 'unknown', 'unknown', 'unknown', 'unknown', 'unknown', 'unknown', 'unknown', 'unknown', 'unknown', 'unknown', 'unknown', 'unknown', 'unknown', 'female', 'unknown', 'unknown', 'unknown', 'mostly_female', 'unknown', 'unknown', 'unknown', 'unknown', 'unknown', 'male', 'male', 'male', 'male', 'unknown', 'unknown', 'male', 'unknown', 'unknown', 'male', 'female', 'unknown', 'unknown', 'unknown', 'unknown', 'unknown', 'unknown', 'unknown', 'female', 'unknown', 'unknown', 'unknown', 'unknown', 'unknown', 'unknown', 'female', 'unknown', 'unknown', 'unknown', 'male', 'male', 'unknown', 'unknown', 'unknown', 'unknown', 'unknown', 'unknown', 'unknown', 'unknown', 'male', 'unknown', 'unknown', 'unknown', 'unknown', 'unknown', 'unknown', 'male', 'unknown', 'male', 'male', 'unknown', 'unknown', 'unknown', 'unknown', 'unknown', 'unknown', 'unknown', 'female', 'unknown', 'female', 'unknown', 'unknown', 'unknown', 'unknown', 'unknown', 'unknown', 'unknown', 'unknown', 'unknown', 'male', 'unknown', 'female', 'unknown', 'unknown', 'unknown', 'male', 'unknown', 'unknown', 'unknown', 'unknown', 'unknown', 'unknown', 'unknown', 'male', 'unknown', 'unknown', 'unknown', 'unknown', 'unknown', 'unknown', 'female', 'male', 'unknown', 'unknown', 'unknown', 'unknown', 'unknown', 'unknown', 'female', 'male', 'unknown', 'unknown', 'unknown', 'unknown', 'unknown', 'unknown', 'unknown', 'unknown', 'unknown', 'male', 'male', 'unknown', 'male', 'male', 'unknown', 'male', 'unknown', 'male', 'male', 'male', 'unknown', 'unknown', 'male', 'unknown', 'unknown', 'unknown', 'male', 'unknown', 'female', 'unknown', 'unknown', 'unknown', 'male', 'male', 'male', 'male', 'male', 'unknown', 'male', 'unknown', 'unknown', 'unknown', 'unknown', 'female', 'unknown', 'unknown', 'unknown', 'male', 'unknown', 'unknown', 'female', 'unknown', 'unknown', 'unknown', 'female', 'unknown', 'unknown', 'unknown', 'mostly_male', 'male', 'unknown', 'unknown', 'unknown', 'male', 'unknown', 'unknown', 'unknown', 'unknown', 'male', 'unknown', 'unknown', 'unknown', 'unknown', 'unknown', 'male', 'unknown', 'unknown', 'male', 'male', 'unknown', 'unknown', 'male', 'unknown', 'unknown', 'unknown', 'unknown', 'unknown', 'unknown', 'unknown', 'unknown', 'unknown', 'unknown', 'male', 'unknown', 'male', 'unknown', 'unknown', 'unknown', 'unknown', 'unknown', 'unknown', 'unknown', 'unknown', 'unknown', 'unknown', 'unknown', 'unknown', 'unknown', 'unknown', 'unknown', 'unknown', 'male', 'unknown', 'unknown', 'unknown', 'unknown', 'unknown', 'unknown', 'male', 'unknown', 'unknown', 'unknown', 'male', 'unknown', 'unknown', 'male', 'unknown', 'unknown', 'unknown', 'male', 'unknown', 'unknown', 'unknown', 'unknown', 'unknown', 'unknown', 'unknown', 'unknown', 'unknown', 'unknown', 'unknown', 'unknown', 'unknown', 'unknown', 'unknown', 'male', 'unknown', 'unknown', 'unknown', 'unknown', 'unknown', 'unknown', 'unknown', 'unknown', 'unknown', 'unknown', 'male', 'unknown', 'unknown', 'male', 'unknown', 'unknown', 'mostly_female', 'unknown', 'unknown', 'unknown', 'female', 'male', 'unknown', 'unknown', 'male', 'unknown', 'unknown', 'unknown', 'unknown', 'unknown', 'unknown', 'unknown', 'unknown', 'unknown', 'unknown', 'unknown', 'unknown', 'male', 'unknown', 'unknown', 'unknown', 'unknown', 'unknown', 'male', 'female', 'male', 'mostly_male', 'unknown', 'unknown', 'unknown', 'unknown', 'unknown', 'unknown', 'unknown', 'unknown', 'male', 'unknown', 'unknown', 'unknown', 'male', 'unknown', 'female', 'unknown', 'unknown', 'unknown', 'male', 'unknown', 'unknown']"
   ]
  },
  {
   "cell_type": "code",
   "execution_count": 376,
   "id": "887aca7d",
   "metadata": {},
   "outputs": [],
   "source": [
    "#concatening the gender list to the GOT DataFrame\n",
    "got['gender_guess'] =pd.Series(gender_guess)"
   ]
  },
  {
   "cell_type": "markdown",
   "id": "204370d4",
   "metadata": {},
   "source": [
    "## Working with the results of the gender guess"
   ]
  },
  {
   "cell_type": "code",
   "execution_count": 377,
   "id": "23710974",
   "metadata": {},
   "outputs": [],
   "source": [
    "# declaring the vairables\n",
    "male = ['brother','king','lord','master','prince']\n",
    "female = ['wife','mistress','princess','widow', 'lady']\n",
    "# looping over each name \n",
    "for index, col in got.iterrows():\n",
    "    #Creating a new list of gender that narrows the values of gender list\n",
    "    if got.loc[index, 'gender_guess'] == 'mostly_male':\n",
    "        got.loc[index,'gender_guess_2'] = 'male'\n",
    "    elif got.loc[index, 'gender_guess'] == 'mostly_female':\n",
    "        got.loc[index, 'gender_guess_2'] = 'female'\n",
    "    elif got.loc[index, 'gender_guess'] == 'unknown':\n",
    "        got.loc[index, 'gender_guess_2'] = 'not_known'\n",
    "    else:\n",
    "        got.loc[index, 'gender_guess_2'] = got.loc[index, 'gender_guess']\n",
    "\n",
    "for index, col in got.iterrows():\n",
    "    for i in male:\n",
    "        if i in got.loc[index, 'title'].casefold():\n",
    "            got.loc[index, 'gender_guess_2'] = 'male'\n",
    "            break\n",
    "        else:\n",
    "            continue\n",
    "            \n",
    "    for x in female:\n",
    "        if x in got.loc[index, 'title'].casefold():\n",
    "            got.loc[index, 'gender_guess_2'] = 'female'\n",
    "            break\n",
    "        else: \n",
    "            continue\n",
    "\n",
    "\n"
   ]
  },
  {
   "cell_type": "code",
   "execution_count": 378,
   "id": "637b53b4",
   "metadata": {},
   "outputs": [
    {
     "data": {
      "text/plain": [
       "not_known    1236\n",
       "male          520\n",
       "female        180\n",
       "andy           10\n",
       "Name: gender_guess_2, dtype: int64"
      ]
     },
     "execution_count": 378,
     "metadata": {},
     "output_type": "execute_result"
    }
   ],
   "source": [
    "got['gender_guess_2'].value_counts()"
   ]
  },
  {
   "cell_type": "markdown",
   "id": "af04eca3",
   "metadata": {},
   "source": [
    "## working the feature engineering"
   ]
  },
  {
   "cell_type": "markdown",
   "id": "88d921a2",
   "metadata": {},
   "source": [
    "#### If I guess the gender of the spouse, the other spouse must have the opposite sex, so I changed the sex. Then I did some cuts in the popularity according to the concentration of deads. Finally I did a cut in age."
   ]
  },
  {
   "cell_type": "code",
   "execution_count": 379,
   "id": "fcaf9f08",
   "metadata": {
    "scrolled": true
   },
   "outputs": [
    {
     "data": {
      "text/plain": [
       "not_known    1236\n",
       "male          519\n",
       "female        181\n",
       "andy           10\n",
       "Name: gender_guess_2, dtype: int64"
      ]
     },
     "execution_count": 379,
     "metadata": {},
     "output_type": "execute_result"
    }
   ],
   "source": [
    "royalti = ['queen', 'king', 'lady', 'master', 'ser', 'winterfell', 'khal', 'princess', 'septon', 'casterly rock']\n",
    "army = ['captain' , 'watch', 'commander', ]\n",
    "for index, col in got.iterrows():\n",
    "    if  got.loc[index, 'gender_guess_2'] == 'male' and got.loc[index, 'spouse'] != 'empty':\n",
    "        index2 = got.index\n",
    "        condition = got[\"name\"] == got.loc[index, 'spouse']\n",
    "        indices = index2[condition]\n",
    "        indices_list = np.array(indices.tolist())\n",
    "        if np.count_nonzero(indices_list) > 0:\n",
    "            if got.loc[indices_list.item(0), 'gender_guess_2'] == 'male':\n",
    "                got.loc[index, 'gender_guess_2'] = 'female'\n",
    "            elif got.loc[indices_list.item(0), 'gender_guess_2'] == 'female':\n",
    "                got.loc[index, 'gender_guess_2'] = 'male'\n",
    "            else:\n",
    "                continue\n",
    "        else:\n",
    "            continue\n",
    "    for i in royalti:\n",
    "        if i in got.loc[index, 'title'].casefold():\n",
    "            got.loc[index, 'title_h'] = 'royalti'\n",
    "    for x in army:\n",
    "        if x in got.loc[index, 'title'].casefold():\n",
    "            got.loc[index, 'title_h'] = 'army'\n",
    "            \n",
    "    if got.loc[index, 'popularity'] <= 0.025:\n",
    "        got.loc[index, 'popularity_h'] = 'rg1'\n",
    "    elif got.loc[index, 'popularity'] < 0.15:\n",
    "        got.loc[index, 'popularity_h'] = 'rg2'   \n",
    "    elif got.loc[index, 'popularity'] >= 0.15:\n",
    "        got.loc[index, 'popularity_h'] = 'rg3'   \n",
    "    else:\n",
    "        print('error')\n",
    "        \n",
    "    if got.loc[index, 'age'] <= 3:\n",
    "        got.loc[index, 'age_h'] = 'rg1'   \n",
    "    elif got.loc[index, 'age'] <= 64:\n",
    "        got.loc[index, 'age_h'] = 'rg2'   \n",
    "    elif got.loc[index, 'age'] > 64:\n",
    "        got.loc[index, 'age_h'] = 'rg3'\n",
    "    else:\n",
    "        print('error')\n",
    "    \n",
    "    got.loc[index, 'name_h'] =  got.loc[index, 'name'].count(\" \") + 1\n",
    "    \n",
    "    \n",
    "got['agedatebirth'] = got['age'] + got['dateOfBirth']        \n",
    "\n",
    "    \n",
    "value = 'empty'\n",
    "got['title_h'].fillna(value = value,\n",
    "                        inplace = True)          \n",
    "\n",
    "got['gender_guess_2'].value_counts()"
   ]
  },
  {
   "cell_type": "code",
   "execution_count": 380,
   "id": "5e9231a7",
   "metadata": {},
   "outputs": [],
   "source": [
    "temp_got = pd.get_dummies(columns = ['gender_guess_2', 'title_h','popularity_h','age_h'], data = got ) \n",
    "got = temp_got\n",
    "                        "
   ]
  },
  {
   "cell_type": "code",
   "execution_count": 381,
   "id": "48f97448",
   "metadata": {},
   "outputs": [],
   "source": [
    "# ########################################\n",
    "# # optimal_neighbors\n",
    "# ########################################\n",
    "# def optimal_neighbors(x_data,\n",
    "#                       y_data,\n",
    "#                       standardize = True,\n",
    "#                       pct_test=0.25,\n",
    "#                       seed=219,\n",
    "#                       response_type='reg',\n",
    "#                       max_neighbors=20,\n",
    "#                       show_viz=True):\n",
    "#     \"\"\"\n",
    "# Exhaustively compute training and testing results for KNN across\n",
    "# [1, max_neighbors]. Outputs the maximum test score and (by default) a\n",
    "# visualization of the results.\n",
    "# PARAMETERS\n",
    "# ----------\n",
    "# x_data        : explanatory variable data\n",
    "# y_data        : response variable\n",
    "# standardize   : whether or not to standardize the x data, default True\n",
    "# pct_test      : test size for training and validation from (0,1), default 0.25\n",
    "# seed          : random seed to be used in algorithm, default 219\n",
    "# response_type : type of neighbors algorithm to use, default 'reg'\n",
    "#     Use 'reg' for regression (KNeighborsRegressor)\n",
    "#     Use 'class' for classification (KNeighborsClassifier)\n",
    "# max_neighbors : maximum number of neighbors in exhaustive search, default 20\n",
    "# show_viz      : display or surpress k-neigbors visualization, default True\n",
    "# \"\"\"    \n",
    "    \n",
    "    \n",
    "#     if standardize == True:\n",
    "#         # optionally standardizing x_data\n",
    "#         scaler             = StandardScaler()\n",
    "#         scaler.fit(x_data)\n",
    "#         x_scaled           = scaler.transform(x_data)\n",
    "#         x_scaled_df        = pd.DataFrame(x_scaled)\n",
    "#         x_data             = x_scaled_df\n",
    "\n",
    "\n",
    "\n",
    "#     # train-test split\n",
    "#     x_train, x_test, y_train, y_test = train_test_split(x_data,\n",
    "#                                                         y_data,\n",
    "#                                                         test_size = pct_test,\n",
    "#                                                         random_state = seed)\n",
    "\n",
    "\n",
    "#     # creating lists for training set accuracy and test set accuracy\n",
    "#     training_accuracy = []\n",
    "#     test_accuracy = []\n",
    "    \n",
    "    \n",
    "#     # setting neighbor range\n",
    "#     neighbors_settings = range(1, max_neighbors + 1)\n",
    "\n",
    "\n",
    "#     for n_neighbors in neighbors_settings:\n",
    "#         # building the model based on response variable type\n",
    "#         if response_type == 'reg':\n",
    "#             clf = KNeighborsRegressor(n_neighbors = n_neighbors)\n",
    "#             clf.fit(x_train, y_train)\n",
    "            \n",
    "#         elif response_type == 'class':\n",
    "#             clf = KNeighborsClassifier(n_neighbors = n_neighbors)\n",
    "#             clf.fit(x_train, y_train)            \n",
    "            \n",
    "#         else:\n",
    "#             print(\"Error: response_type must be 'reg' or 'class'\")\n",
    "        \n",
    "        \n",
    "#         # recording the training set accuracy\n",
    "#         training_accuracy.append(clf.score(x_train, y_train))\n",
    "    \n",
    "#         # recording the generalization accuracy\n",
    "#         test_accuracy.append(clf.score(x_test, y_test))\n",
    "\n",
    "\n",
    "#     # optionally displaying visualization\n",
    "#     if show_viz == True:\n",
    "#         # plotting the visualization\n",
    "#         fig, ax = plt.subplots(figsize=(12,8))\n",
    "#         plt.plot(neighbors_settings, training_accuracy, label = \"training accuracy\")\n",
    "#         plt.plot(neighbors_settings, test_accuracy, label = \"test accuracy\")\n",
    "#         plt.ylabel(\"Accuracy\")\n",
    "#         plt.xlabel(\"n_neighbors\")\n",
    "#         plt.legend()\n",
    "#         plt.show()\n",
    "    \n",
    "    \n",
    "#     # returning optimal number of neighbors\n",
    "#     print(f\"The optimal number of neighbors is: {test_accuracy.index(max(test_accuracy))+1}\")\n",
    "#     return test_accuracy.index(max(test_accuracy))+1\n",
    "\n",
    "\n",
    "# ########################################\n",
    "# # visual_cm\n",
    "# ########################################\n",
    "# def visual_cm(true_y, pred_y, labels = None):\n",
    "#     \"\"\"\n",
    "# Creates a visualization of a confusion matrix.\n",
    "\n",
    "# PARAMETERS\n",
    "# ----------\n",
    "# true_y : true values for the response variable\n",
    "# pred_y : predicted values for the response variable\n",
    "# labels : , default None\n",
    "#     \"\"\"\n",
    "#     # visualizing the confusion matrix\n",
    "\n",
    "#     # setting labels\n",
    "#     lbls = labels\n",
    "    \n",
    "\n",
    "#     # declaring a confusion matrix object\n",
    "#     cm = confusion_matrix(y_true = true_y,\n",
    "#                           y_pred = pred_y)\n",
    "\n",
    "\n",
    "#     # heatmap\n",
    "#     sns.heatmap(cm,\n",
    "#                 annot       = True,\n",
    "#                 xticklabels = lbls,\n",
    "#                 yticklabels = lbls,\n",
    "#                 cmap        = 'Blues',\n",
    "#                 fmt         = 'g')\n",
    "\n",
    "\n",
    "#     plt.xlabel('Predicted')\n",
    "#     plt.ylabel('Actual')\n",
    "#     plt.title('Confusion Matrix of the Classifier')\n",
    "#     plt.show()"
   ]
  },
  {
   "cell_type": "markdown",
   "id": "d43ba67f",
   "metadata": {},
   "source": [
    "# 4) Correlation Analysis"
   ]
  },
  {
   "cell_type": "code",
   "execution_count": 382,
   "id": "6d1ba27f",
   "metadata": {
    "scrolled": true
   },
   "outputs": [
    {
     "data": {
      "text/plain": [
       "numDeadRelations             -0.19\n",
       "popularity                   -0.18\n",
       "age_h_rg3                    -0.17\n",
       "popularity_h_rg3             -0.17\n",
       "book1_A_Game_Of_Thrones      -0.15\n",
       "isAliveMother                -0.14\n",
       "S.No                         -0.13\n",
       "isAliveFather                -0.12\n",
       "isAliveHeir                  -0.12\n",
       "age_h_rg1                    -0.11\n",
       "popularity_h_rg2             -0.08\n",
       "agedatebirth                 -0.08\n",
       "name_h                       -0.08\n",
       "book2_A_Clash_Of_Kings       -0.07\n",
       "title_h_royalti              -0.06\n",
       "dateOfBirth                  -0.06\n",
       "isMarried                    -0.05\n",
       "isNoble                      -0.04\n",
       "gender_guess_2_male          -0.03\n",
       "isAliveSpouse                -0.03\n",
       "title_h_army                  0.00\n",
       "book3_A_Storm_Of_Swords       0.01\n",
       "gender_guess_2_andy           0.01\n",
       "gender_guess_2_female         0.02\n",
       "gender_guess_2_not_known      0.02\n",
       "book5_A_Dance_with_Dragons    0.03\n",
       "m_title                       0.04\n",
       "m_house                       0.04\n",
       "m_culture                     0.04\n",
       "m_spouse                      0.05\n",
       "m_isAliveSpouse               0.05\n",
       "age                           0.05\n",
       "title_h_empty                 0.06\n",
       "m_isAliveHeir                 0.13\n",
       "m_heir                        0.13\n",
       "m_isAliveMother               0.14\n",
       "m_isAliveFather               0.14\n",
       "m_father                      0.14\n",
       "m_mother                      0.14\n",
       "m_dateOfBirth                 0.15\n",
       "m_age                         0.15\n",
       "age_h_rg2                     0.20\n",
       "popularity_h_rg1              0.22\n",
       "book4_A_Feast_For_Crows       0.27\n",
       "isAlive                       1.00\n",
       "Name: isAlive, dtype: float64"
      ]
     },
     "execution_count": 382,
     "metadata": {},
     "output_type": "execute_result"
    }
   ],
   "source": [
    "df_corr = got.corr (method = 'pearson').round(decimals = 2)\n",
    "df_corr ['isAlive'].sort_values(ascending = True)\n"
   ]
  },
  {
   "cell_type": "markdown",
   "id": "f3a3de6c",
   "metadata": {},
   "source": [
    "# 5) Analysis of Models"
   ]
  },
  {
   "cell_type": "markdown",
   "id": "88e13823",
   "metadata": {},
   "source": [
    "## a) Logistic Regression"
   ]
  },
  {
   "cell_type": "code",
   "execution_count": 383,
   "id": "8e9a55bf",
   "metadata": {},
   "outputs": [],
   "source": [
    "\n",
    "got.loc[ : ,'isAlive'].value_counts(normalize = True).round(decimals = 2)\n",
    "# declaring explanatory variables\n",
    "got_target = got.loc[ : ,'isAlive']\n",
    "# declaring response variable\n",
    "got_data = got.drop(columns = ['isAlive', 'S.No'])\n",
    "# train-test split with stratification\n",
    "x_train, x_test, y_train, y_test = train_test_split(\n",
    "            got_data,\n",
    "            got_target,\n",
    "            test_size    = 0.1,\n",
    "            random_state = 219,\n",
    "            stratify     = got_target) # preserving balance\n",
    "\n",
    "\n",
    "# merging training data for statsmodels\n",
    "got_train = pd.concat([x_train, y_train], axis = 1)"
   ]
  },
  {
   "cell_type": "code",
   "execution_count": 384,
   "id": "db317acf",
   "metadata": {},
   "outputs": [
    {
     "name": "stdout",
     "output_type": "stream",
     "text": [
      "\n",
      "\n",
      "Response Variable Proportions (Training Set)\n",
      "--------------------------------------------\n",
      "1    0.75\n",
      "0    0.25\n",
      "Name: isAlive, dtype: float64\n",
      "\n",
      "\n",
      "\n",
      "Response Variable Proportions (Testing Set)\n",
      "--------------------------------------------\n",
      "1    0.74\n",
      "0    0.26\n",
      "Name: isAlive, dtype: float64\n",
      "\n"
     ]
    }
   ],
   "source": [
    "print(f\"\"\"\n",
    "\n",
    "Response Variable Proportions (Training Set)\n",
    "--------------------------------------------\n",
    "{y_train.value_counts(normalize = True).round(decimals = 2)}\n",
    "\n",
    "\n",
    "\n",
    "Response Variable Proportions (Testing Set)\n",
    "--------------------------------------------\n",
    "{y_test.value_counts(normalize = True).round(decimals = 2)}\n",
    "\"\"\")\n"
   ]
  },
  {
   "cell_type": "code",
   "execution_count": 385,
   "id": "c4168318",
   "metadata": {},
   "outputs": [
    {
     "name": "stdout",
     "output_type": "stream",
     "text": [
      " 'name' , \n",
      " 'title' , \n",
      " 'culture' , \n",
      " 'dateOfBirth' , \n",
      " 'mother' , \n",
      " 'father' , \n",
      " 'heir' , \n",
      " 'house' , \n",
      " 'spouse' , \n",
      " 'book1_A_Game_Of_Thrones' , \n",
      " 'book2_A_Clash_Of_Kings' , \n",
      " 'book3_A_Storm_Of_Swords' , \n",
      " 'book4_A_Feast_For_Crows' , \n",
      " 'book5_A_Dance_with_Dragons' , \n",
      " 'isAliveMother' , \n",
      " 'isAliveFather' , \n",
      " 'isAliveHeir' , \n",
      " 'isAliveSpouse' , \n",
      " 'isMarried' , \n",
      " 'isNoble' , \n",
      " 'age' , \n",
      " 'numDeadRelations' , \n",
      " 'popularity' , \n",
      " 'm_title' , \n",
      " 'm_culture' , \n",
      " 'm_dateOfBirth' , \n",
      " 'm_mother' , \n",
      " 'm_father' , \n",
      " 'm_heir' , \n",
      " 'm_house' , \n",
      " 'm_spouse' , \n",
      " 'm_isAliveMother' , \n",
      " 'm_isAliveFather' , \n",
      " 'm_isAliveHeir' , \n",
      " 'm_isAliveSpouse' , \n",
      " 'm_age' , \n",
      " 'gender_guess' , \n",
      " 'name_h' , \n",
      " 'agedatebirth' , \n",
      " 'gender_guess_2_andy' , \n",
      " 'gender_guess_2_female' , \n",
      " 'gender_guess_2_male' , \n",
      " 'gender_guess_2_not_known' , \n",
      " 'title_h_army' , \n",
      " 'title_h_empty' , \n",
      " 'title_h_royalti' , \n",
      " 'popularity_h_rg1' , \n",
      " 'popularity_h_rg2' , \n",
      " 'popularity_h_rg3' , \n",
      " 'age_h_rg1' , \n",
      " 'age_h_rg2' , \n",
      " 'age_h_rg3' , \n"
     ]
    }
   ],
   "source": [
    "for val in got_data:\n",
    "    print(f\" '{val}' , \")"
   ]
  },
  {
   "cell_type": "code",
   "execution_count": 386,
   "id": "ce0d60fb",
   "metadata": {},
   "outputs": [
    {
     "name": "stdout",
     "output_type": "stream",
     "text": [
      "Optimization terminated successfully.\n",
      "         Current function value: 0.467490\n",
      "         Iterations 6\n"
     ]
    },
    {
     "data": {
      "text/html": [
       "<table class=\"simpletable\">\n",
       "<tr>\n",
       "        <td>Model:</td>              <td>Logit</td>      <td>Pseudo R-squared:</td>    <td>0.175</td>  \n",
       "</tr>\n",
       "<tr>\n",
       "  <td>Dependent Variable:</td>      <td>isAlive</td>           <td>AIC:</td>         <td>1653.1486</td>\n",
       "</tr>\n",
       "<tr>\n",
       "         <td>Date:</td>        <td>2021-12-05 16:16</td>       <td>BIC:</td>         <td>1696.8921</td>\n",
       "</tr>\n",
       "<tr>\n",
       "   <td>No. Observations:</td>        <td>1751</td>        <td>Log-Likelihood:</td>    <td>-818.57</td> \n",
       "</tr>\n",
       "<tr>\n",
       "       <td>Df Model:</td>              <td>7</td>            <td>LL-Null:</td>        <td>-992.53</td> \n",
       "</tr>\n",
       "<tr>\n",
       "     <td>Df Residuals:</td>          <td>1743</td>         <td>LLR p-value:</td>    <td>3.4360e-71</td>\n",
       "</tr>\n",
       "<tr>\n",
       "      <td>Converged:</td>           <td>1.0000</td>           <td>Scale:</td>         <td>1.0000</td>  \n",
       "</tr>\n",
       "<tr>\n",
       "    <td>No. Iterations:</td>        <td>6.0000</td>              <td></td>               <td></td>     \n",
       "</tr>\n",
       "</table>\n",
       "<table class=\"simpletable\">\n",
       "<tr>\n",
       "             <td></td>              <th>Coef.</th>  <th>Std.Err.</th>    <th>z</th>     <th>P>|z|</th> <th>[0.025</th>  <th>0.975]</th> \n",
       "</tr>\n",
       "<tr>\n",
       "  <th>Intercept</th>               <td>-0.4655</td>  <td>0.1839</td>  <td>-2.5317</td> <td>0.0114</td> <td>-0.8259</td> <td>-0.1051</td>\n",
       "</tr>\n",
       "<tr>\n",
       "  <th>book1_A_Game_Of_Thrones</th> <td>-0.5227</td>  <td>0.1491</td>  <td>-3.5048</td> <td>0.0005</td> <td>-0.8150</td> <td>-0.2304</td>\n",
       "</tr>\n",
       "<tr>\n",
       "  <th>book4_A_Feast_For_Crows</th> <td>1.8059</td>   <td>0.1407</td>  <td>12.8383</td> <td>0.0000</td> <td>1.5302</td>  <td>2.0816</td> \n",
       "</tr>\n",
       "<tr>\n",
       "  <th>age_h_rg3</th>               <td>-1.2900</td>  <td>0.3405</td>  <td>-3.7881</td> <td>0.0002</td> <td>-1.9575</td> <td>-0.6226</td>\n",
       "</tr>\n",
       "<tr>\n",
       "  <th>numDeadRelations</th>        <td>-0.1605</td>  <td>0.0430</td>  <td>-3.7354</td> <td>0.0002</td> <td>-0.2447</td> <td>-0.0763</td>\n",
       "</tr>\n",
       "<tr>\n",
       "  <th>popularity_h_rg1</th>        <td>1.4029</td>   <td>0.1482</td>  <td>9.4662</td>  <td>0.0000</td> <td>1.1125</td>  <td>1.6934</td> \n",
       "</tr>\n",
       "<tr>\n",
       "  <th>m_age</th>                   <td>0.3546</td>   <td>0.1653</td>  <td>2.1456</td>  <td>0.0319</td> <td>0.0307</td>  <td>0.6786</td> \n",
       "</tr>\n",
       "<tr>\n",
       "  <th>gender_guess_2_female</th>   <td>0.4946</td>   <td>0.2265</td>  <td>2.1837</td>  <td>0.0290</td> <td>0.0507</td>  <td>0.9385</td> \n",
       "</tr>\n",
       "</table>"
      ],
      "text/plain": [
       "<class 'statsmodels.iolib.summary2.Summary'>\n",
       "\"\"\"\n",
       "                            Results: Logit\n",
       "=======================================================================\n",
       "Model:                Logit              Pseudo R-squared:   0.175     \n",
       "Dependent Variable:   isAlive            AIC:                1653.1486 \n",
       "Date:                 2021-12-05 16:16   BIC:                1696.8921 \n",
       "No. Observations:     1751               Log-Likelihood:     -818.57   \n",
       "Df Model:             7                  LL-Null:            -992.53   \n",
       "Df Residuals:         1743               LLR p-value:        3.4360e-71\n",
       "Converged:            1.0000             Scale:              1.0000    \n",
       "No. Iterations:       6.0000                                           \n",
       "-----------------------------------------------------------------------\n",
       "                         Coef.  Std.Err.    z    P>|z|   [0.025  0.975]\n",
       "-----------------------------------------------------------------------\n",
       "Intercept               -0.4655   0.1839 -2.5317 0.0114 -0.8259 -0.1051\n",
       "book1_A_Game_Of_Thrones -0.5227   0.1491 -3.5048 0.0005 -0.8150 -0.2304\n",
       "book4_A_Feast_For_Crows  1.8059   0.1407 12.8383 0.0000  1.5302  2.0816\n",
       "age_h_rg3               -1.2900   0.3405 -3.7881 0.0002 -1.9575 -0.6226\n",
       "numDeadRelations        -0.1605   0.0430 -3.7354 0.0002 -0.2447 -0.0763\n",
       "popularity_h_rg1         1.4029   0.1482  9.4662 0.0000  1.1125  1.6934\n",
       "m_age                    0.3546   0.1653  2.1456 0.0319  0.0307  0.6786\n",
       "gender_guess_2_female    0.4946   0.2265  2.1837 0.0290  0.0507  0.9385\n",
       "=======================================================================\n",
       "\n",
       "\"\"\""
      ]
     },
     "execution_count": 386,
     "metadata": {},
     "output_type": "execute_result"
    }
   ],
   "source": [
    "# instantiating a logistic regression model object\n",
    "logistic_full = smf.logit(formula = \"\"\"isAlive ~  \n",
    " book1_A_Game_Of_Thrones +  \n",
    " book4_A_Feast_For_Crows +  \n",
    " age_h_rg3 +\n",
    " numDeadRelations + \n",
    " popularity_h_rg1 +\n",
    "m_age +\n",
    "gender_guess_2_female  \n",
    "\"\"\",\n",
    "                    data    = got_train)\n",
    "\n",
    "# fitting the model object\n",
    "results_full = logistic_full.fit()\n",
    "\n",
    "\n",
    "# checking the results SUMMARY\n",
    "results_full.summary2()"
   ]
  },
  {
   "cell_type": "markdown",
   "id": "543dde6b",
   "metadata": {},
   "source": [
    "### Declaring explanatory sets"
   ]
  },
  {
   "cell_type": "code",
   "execution_count": 387,
   "id": "4df52e26",
   "metadata": {},
   "outputs": [],
   "source": [
    "# explanatory sets \n",
    "\n",
    "# creating a dictionary to store candidate models\n",
    "\n",
    "candidate_dict = {\n",
    "\n",
    " # full model\n",
    " 'logit_full'   : [\n",
    " 'book1_A_Game_Of_Thrones',  \n",
    " 'book4_A_Feast_For_Crows' ,\n",
    " 'isNoble' ,\n",
    " 'age' ,   \n",
    " 'numDeadRelations' , \n",
    " 'popularity' ,\n",
    " 'm_title' ,\n",
    " 'm_house' , \n",
    " 'm_father' ,\n",
    " 'm_spouse' , \n",
    " 'm_heir' ,\n",
    " 'm_isAliveFather' , \n",
    " 'm_isAliveHeir' ,\n",
    " 'm_isAliveSpouse' ,\n",
    " 'gender_guess_2_female',\n",
    "  'name_h'],\n",
    " \n",
    " # significant variables only (set 1)\n",
    " 'logit_sig'    : ['m_heir' ,          \n",
    "'m_father',                      \n",
    "'m_isAliveFather'     ,          \n",
    "'m_isAliveMother',               \n",
    "'m_mother',                \n",
    "'m_dateOfBirth',   \n",
    "'m_isAliveHeir',\n",
    "'m_age',                         \n",
    "'popularity_h_rg1',              \n",
    "'book4_A_Feast_For_Crows',    \n",
    "'numDeadRelations',             \n",
    "'age_h_rg3',                    \n",
    "'popularity_h_rg3',             \n",
    "'book1_A_Game_Of_Thrones'],\n",
    " # significant variables only (set 2)\n",
    " 'logit_sig_2'  : [ 'book1_A_Game_Of_Thrones' ,\n",
    " 'book4_A_Feast_For_Crows', \n",
    " 'age_h_rg3',\n",
    " 'numDeadRelations', \n",
    " 'popularity_h_rg1', \n",
    " 'gender_guess_2_female', \n",
    " 'm_age']\n",
    ",\n",
    " # significant variables only (set 3)\n",
    " 'logit_sig_3'  : ['book1_A_Game_Of_Thrones' ,\n",
    " 'book4_A_Feast_For_Crows', \n",
    " 'age_h_rg3',\n",
    " 'numDeadRelations', \n",
    " 'popularity_h_rg1', \n",
    " 'gender_guess_2_female', \n",
    " 'm_age',\n",
    "  'age',\n",
    "  'popularity'\n",
    "  ]\n",
    "}\n",
    "\n",
    "# train/test split with the logit_sig variables\n",
    "got_data   =  got.loc[:, candidate_dict['logit_sig_2']]\n",
    "got_target =  got.loc[:, 'isAlive']\n",
    "\n",
    "\n",
    "# train/test split\n",
    "x_train, x_test, y_train, y_test = train_test_split(\n",
    "            got_data,\n",
    "            got_target,\n",
    "            random_state = 219,\n",
    "            test_size    = 0.1,\n",
    "            stratify     = got_target)\n"
   ]
  },
  {
   "cell_type": "markdown",
   "id": "5cd24ab2",
   "metadata": {},
   "source": [
    "## b) Logistic Regression (SKLearn) "
   ]
  },
  {
   "cell_type": "code",
   "execution_count": 388,
   "id": "4be6f04f",
   "metadata": {},
   "outputs": [],
   "source": [
    "# INSTANTIATING a logistic regression model with default values\n",
    "lr_default = LogisticRegression(solver = 'lbfgs',\n",
    "                                C = 1.0,\n",
    "                                warm_start = False, #as the computer start to run, start to learn how to interate. \n",
    "                                random_state = 219)"
   ]
  },
  {
   "cell_type": "code",
   "execution_count": 389,
   "id": "619c3752",
   "metadata": {},
   "outputs": [
    {
     "name": "stdout",
     "output_type": "stream",
     "text": [
      "Training ACCURACY: 0.7813\n",
      "Testing  ACCURACY: 0.8513\n",
      "AUC Score        : 0.7755\n"
     ]
    }
   ],
   "source": [
    "# FITTING the training data\n",
    "lr_default_fit = lr_default.fit(x_train, y_train)\n",
    "\n",
    "\n",
    "# PREDICTING based on the testing set\n",
    "lr_default_pred = lr_default_fit.predict(x_test)\n",
    "\n",
    "\n",
    "# SCORING the results\n",
    "print('Training ACCURACY:', lr_default_fit.score(x_train, y_train).round(4))\n",
    "print('Testing  ACCURACY:', lr_default_fit.score(x_test, y_test).round(4))\n",
    "\n",
    "\n",
    "# SCORING with AUC\n",
    "print('AUC Score        :', roc_auc_score(y_true  = y_test,\n",
    "                                          y_score = lr_default_pred).round(4))\n",
    "\n",
    "\n",
    "# saving scoring data for future use\n",
    "logreg_train_score = lr_default_fit.score(x_train, y_train).round(4) # accuracy\n",
    "logreg_test_score  = lr_default_fit.score(x_test, y_test).round(4)   # accuracy\n",
    "\n",
    "\n",
    "# saving AUC score\n",
    "logreg_auc_score = roc_auc_score(y_true  = y_test,\n",
    "                                 y_score = lr_default_pred).round(4)\n",
    "\n"
   ]
  },
  {
   "cell_type": "code",
   "execution_count": 390,
   "id": "c6a5366c",
   "metadata": {},
   "outputs": [
    {
     "name": "stdout",
     "output_type": "stream",
     "text": [
      "\n",
      "True Negatives : 31\n",
      "False Positives: 19\n",
      "False Negatives: 10\n",
      "True Positives : 135\n",
      "\n"
     ]
    }
   ],
   "source": [
    "# unpacking the confusion matrix\n",
    "logreg_tn, \\\n",
    "logreg_fp, \\\n",
    "logreg_fn, \\\n",
    "logreg_tp = confusion_matrix(y_true = y_test, y_pred = lr_default_pred).ravel()\n",
    "\n",
    "\n",
    "# printing each result one-by-one\n",
    "print(f\"\"\"\n",
    "True Negatives : {logreg_tn}\n",
    "False Positives: {logreg_fp}\n",
    "False Negatives: {logreg_fn}\n",
    "True Positives : {logreg_tp}\n",
    "\"\"\")\n"
   ]
  },
  {
   "cell_type": "markdown",
   "id": "7a9d4c43",
   "metadata": {},
   "source": [
    "## c) Logistic Regression (SkLearn) Tuned"
   ]
  },
  {
   "cell_type": "code",
   "execution_count": 391,
   "id": "fcc5d25d",
   "metadata": {
    "scrolled": true
   },
   "outputs": [],
   "source": [
    "########################################\n",
    "# RandomizedSearchCV\n",
    "########################################\n",
    "# from sklearn.model_selection import RandomizedSearchCV     # hyperparameter tuning\n",
    "# from sklearn.metrics import make_scorer              # customizable scorer\n",
    "# # declaring a hyperparameter space\n",
    "# C_range          = np.arange(0.05, 10.0, 0.01)\n",
    "# warm_start_range = [True, False]\n",
    "# solver_range     = ['newton-cg', 'sag', 'lbfgs']\n",
    "# class_weight_rg  = ['balanced', 'balanced_subsample']\n",
    "\n",
    "# # creating a hyperparameter grid\n",
    "# param_grid = {'C'          : C_range, \n",
    "#               'warm_start' : warm_start_range,\n",
    "#               'solver'     : solver_range,\n",
    "#              'class_weight':class_weight_rg}\n",
    "\n",
    "\n",
    "# # INSTANTIATING the model object without hyperparameters\n",
    "# lr_tuned = LogisticRegression(random_state = 219,\n",
    "#                               max_iter     = 1000) # increased for convergence\n",
    "\n",
    "\n",
    "# # GridSearchCV object\n",
    "# lr_tuned_cv = RandomizedSearchCV(estimator           = lr_tuned,   # the model object\n",
    "#                                  param_distributions = param_grid, # parameters to tune\n",
    "#                                  cv                  = 3,          # how many folds in cross-validation\n",
    "#                                  n_iter              = 5000,        # number of combinations of hyperparameters to try\n",
    "#                                  random_state        = 219,        # starting point for random sequence\n",
    "#                                  scoring = make_scorer(\n",
    "#                                            roc_auc_score,\n",
    "#                                            needs_threshold = False)) # scoring criteria (AUC)\n",
    "\n",
    "\n",
    "# # FITTING to the FULL DATASET (due to cross-validation)\n",
    "# lr_tuned_cv.fit(got_data, got_target)\n",
    "\n",
    "\n",
    "# # PREDICT step is not needed\n",
    "\n",
    "\n",
    "# # printing the optimal parameters and best score\n",
    "# print(\"Tuned Parameters  :\", lr_tuned_cv.best_params_)\n",
    "# print(\"Tuned CV AUC      :\", lr_tuned_cv.best_score_.round(4))"
   ]
  },
  {
   "cell_type": "code",
   "execution_count": 392,
   "id": "526f8188",
   "metadata": {},
   "outputs": [],
   "source": [
    "# lr_tuned_cv.best_estimator_"
   ]
  },
  {
   "cell_type": "code",
   "execution_count": 393,
   "id": "b3e6f8bd",
   "metadata": {},
   "outputs": [
    {
     "name": "stdout",
     "output_type": "stream",
     "text": [
      "Training ACCURACY: 0.759\n",
      "Testing  ACCURACY: 0.8359\n",
      "AUC Score        : 0.8241\n"
     ]
    }
   ],
   "source": [
    "# building a model based on hyperparameter tuning results\n",
    "\n",
    "# INSTANTIATING a logistic regression model with tuned values\n",
    "lr_tuned = LogisticRegression(warm_start= False, \n",
    "                              C=0.11000000000000001, \n",
    "                              max_iter=1000, \n",
    "                              random_state=219,\n",
    "                              solver='sag',\n",
    "                              class_weight = 'balanced')\n",
    "\n",
    "# FITTING the model\n",
    "lr_tuned.fit(got_data, got_target)\n",
    "\n",
    "\n",
    "# PREDICTING based on the testing set\n",
    "lr_tuned_pred = lr_tuned.predict(x_test)\n",
    "\n",
    "\n",
    "# SCORING the results\n",
    "print('Training ACCURACY:', lr_tuned.score(x_train, y_train).round(4))\n",
    "print('Testing  ACCURACY:', lr_tuned.score(x_test, y_test).round(4))\n",
    "print('AUC Score        :', roc_auc_score(y_true  = y_test,\n",
    "                                  y_score = lr_tuned_pred).round(4))\n",
    "\n",
    "\n",
    "# saving scoring data for future use\n",
    "lr_tuned_train_score = lr_tuned.score(x_train, y_train).round(4) # accuracy\n",
    "lr_tuned_test_score  = lr_tuned.score(x_test, y_test).round(4)   # accuracy\n",
    "\n",
    "\n",
    "# saving the AUC score\n",
    "lr_tuned_auc         = roc_auc_score(y_true  = y_test,\n",
    "                                     y_score = lr_tuned_pred).round(4) # auc"
   ]
  },
  {
   "cell_type": "code",
   "execution_count": 394,
   "id": "3b447dff",
   "metadata": {},
   "outputs": [
    {
     "name": "stdout",
     "output_type": "stream",
     "text": [
      "[[ 40  10]\n",
      " [ 22 123]]\n"
     ]
    }
   ],
   "source": [
    "# creating a confusion matrix\n",
    "print(confusion_matrix(y_true = y_test,\n",
    "                       y_pred = lr_tuned_pred))"
   ]
  },
  {
   "cell_type": "code",
   "execution_count": 395,
   "id": "52efd42e",
   "metadata": {},
   "outputs": [
    {
     "name": "stdout",
     "output_type": "stream",
     "text": [
      "\n",
      "True Negatives : 40\n",
      "False Positives: 10\n",
      "False Negatives: 22\n",
      "True Positives : 123\n",
      "\n"
     ]
    }
   ],
   "source": [
    "# unpacking the confusion matrix\n",
    "tuned_logreg_tn, \\\n",
    "tuned_logreg_fp, \\\n",
    "tuned_logreg_fn, \\\n",
    "tuned_logreg_tp = confusion_matrix(y_true = y_test, y_pred = lr_tuned_pred).ravel()\n",
    "\n",
    "\n",
    "# printing each result one-by-one\n",
    "print(f\"\"\"\n",
    "True Negatives : {tuned_logreg_tn}\n",
    "False Positives: {tuned_logreg_fp}\n",
    "False Negatives: {tuned_logreg_fn}\n",
    "True Positives : {tuned_logreg_tp}\n",
    "\"\"\")"
   ]
  },
  {
   "cell_type": "markdown",
   "id": "56f1e319",
   "metadata": {},
   "source": [
    "## d) Full Decision Tree"
   ]
  },
  {
   "cell_type": "code",
   "execution_count": 396,
   "id": "b0cf096a",
   "metadata": {},
   "outputs": [],
   "source": [
    "########################################\n",
    "# plot_feature_importances\n",
    "########################################\n",
    "def plot_feature_importances(model, train, export = False):\n",
    "    \"\"\"\n",
    "    Plots the importance of features from a CART model.\n",
    "    \n",
    "    PARAMETERS\n",
    "    ----------\n",
    "    model  : CART model\n",
    "    train  : explanatory variable training data\n",
    "    export : whether or not to export as a .png image, default False\n",
    "    \"\"\"\n",
    "    \n",
    "    # declaring the number\n",
    "    n_features = x_train.shape[1]\n",
    "    \n",
    "    # setting plot window\n",
    "    fig, ax = plt.subplots(figsize=(12,9))\n",
    "    \n",
    "    plt.barh(range(n_features), model.feature_importances_, align='center')\n",
    "    plt.yticks(np.arange(n_features), train.columns)\n",
    "    plt.xlabel(\"Feature importance\")\n",
    "    plt.ylabel(\"Feature\")\n",
    "    \n",
    "    if export == True:\n",
    "        plt.savefig('Tree_Leaf_50_Feature_Importance.png')"
   ]
  },
  {
   "cell_type": "markdown",
   "id": "89269680",
   "metadata": {},
   "source": [
    "### Changing the set of features"
   ]
  },
  {
   "cell_type": "code",
   "execution_count": 397,
   "id": "13981667",
   "metadata": {},
   "outputs": [],
   "source": [
    "# train/test split with the logit_sig variables\n",
    "got_data   =  got.loc[:, candidate_dict['logit_sig_3']]\n",
    "got_target =  got.loc[:, 'isAlive']\n",
    "\n",
    "\n",
    "# train/test split\n",
    "x_train, x_test, y_train, y_test = train_test_split(\n",
    "            got_data,\n",
    "            got_target,\n",
    "            random_state = 219,\n",
    "            test_size    = 0.1,\n",
    "            stratify     = got_target)"
   ]
  },
  {
   "cell_type": "code",
   "execution_count": 398,
   "id": "ad47542e",
   "metadata": {},
   "outputs": [
    {
     "name": "stdout",
     "output_type": "stream",
     "text": [
      "Full Tree Training ACCURACY: 0.8881\n",
      "Full Tree Testing ACCURACY : 0.8103\n",
      "Full Tree AUC Score: 0.7348\n"
     ]
    }
   ],
   "source": [
    "# INSTANTIATING a classification tree object\n",
    "full_tree = DecisionTreeClassifier()\n",
    "\n",
    "\n",
    "# FITTING the training data\n",
    "full_tree_fit = full_tree.fit(x_train, y_train)\n",
    "\n",
    "\n",
    "# PREDICTING on new data\n",
    "full_tree_pred = full_tree_fit.predict(x_test)\n",
    "\n",
    "\n",
    "# SCORING the model\n",
    "print('Full Tree Training ACCURACY:', full_tree_fit.score(x_train,\n",
    "                                                     y_train).round(4))\n",
    "\n",
    "print('Full Tree Testing ACCURACY :', full_tree_fit.score(x_test,\n",
    "                                                     y_test).round(4))\n",
    "\n",
    "print('Full Tree AUC Score:', roc_auc_score(y_true  = y_test,\n",
    "                                            y_score = full_tree_pred).round(4))\n",
    "\n",
    "\n",
    "# saving scoring data for future use\n",
    "full_tree_train_score = full_tree_fit.score(x_train, y_train).round(4) # accuracy\n",
    "full_tree_test_score  = full_tree_fit.score(x_test, y_test).round(4)   # accuracy\n",
    "\n",
    "\n",
    "# saving AUC\n",
    "full_tree_auc_score   = roc_auc_score(y_true  = y_test,\n",
    "                                      y_score = full_tree_pred).round(4) # auc"
   ]
  },
  {
   "cell_type": "code",
   "execution_count": 399,
   "id": "c50e5110",
   "metadata": {},
   "outputs": [
    {
     "name": "stdout",
     "output_type": "stream",
     "text": [
      "\n",
      "True Negatives : 29\n",
      "False Positives: 21\n",
      "False Negatives: 16\n",
      "True Positives : 129\n",
      "\n"
     ]
    }
   ],
   "source": [
    "# unpacking the confusion matrix\n",
    "full_tree_tn, \\\n",
    "full_tree_fp, \\\n",
    "full_tree_fn, \\\n",
    "full_tree_tp = confusion_matrix(y_true = y_test, y_pred = full_tree_pred).ravel()\n",
    "\n",
    "\n",
    "# printing each result one-by-one\n",
    "print(f\"\"\"\n",
    "True Negatives : {full_tree_tn}\n",
    "False Positives: {full_tree_fp}\n",
    "False Negatives: {full_tree_fn}\n",
    "True Positives : {full_tree_tp}\n",
    "\"\"\")"
   ]
  },
  {
   "cell_type": "markdown",
   "id": "c38bef41",
   "metadata": {},
   "source": [
    "## e) Pruned Decision Tree"
   ]
  },
  {
   "cell_type": "code",
   "execution_count": 400,
   "id": "d2b4190d",
   "metadata": {},
   "outputs": [
    {
     "name": "stdout",
     "output_type": "stream",
     "text": [
      "Training ACCURACY: 0.7915\n",
      "Testing  ACCURACY: 0.8615\n",
      "AUC Score        : 0.7366\n"
     ]
    }
   ],
   "source": [
    "# INSTANTIATING a classification tree object\n",
    "tree_pruned = DecisionTreeClassifier(\n",
    "                    max_depth = 4, #try always 4 or 5 \n",
    "                    min_samples_leaf = 25,\n",
    "                    random_state = 219)\n",
    "\n",
    "\n",
    "# FITTING the training data\n",
    "tree_pruned_fit = tree_pruned.fit(x_train, y_train)\n",
    "\n",
    "\n",
    "# PREDICTING on new data\n",
    "tree_pruned_pred = tree_pruned_fit.predict(x_test)\n",
    "\n",
    "\n",
    "# SCORING the model\n",
    "print('Training ACCURACY:', tree_pruned_fit.score(x_train, y_train).round(4))\n",
    "print('Testing  ACCURACY:', tree_pruned_fit.score(x_test, y_test ).round(4))\n",
    "print('AUC Score        :', roc_auc_score(y_true  = y_test,\n",
    "                                          y_score = tree_pruned_pred).round(4))\n",
    "\n",
    "\n",
    "# saving scoring data for future use\n",
    "pruned_tree_train_score = tree_pruned_fit.score(x_train, y_train).round(4) # accuracy\n",
    "pruned_tree_test_score  = tree_pruned_fit.score(x_test, y_test).round(4) # accuracy\n",
    "\n",
    "\n",
    "# saving auc score\n",
    "pruned_tree_auc_score   = roc_auc_score(y_true  = y_test,\n",
    "                                        y_score = tree_pruned_pred).round(4) # auc"
   ]
  },
  {
   "cell_type": "code",
   "execution_count": 401,
   "id": "5b0b235e",
   "metadata": {},
   "outputs": [
    {
     "name": "stdout",
     "output_type": "stream",
     "text": [
      "\n",
      "True Negatives : 24\n",
      "False Positives: 26\n",
      "False Negatives: 1\n",
      "True Positives : 144\n",
      "\n"
     ]
    }
   ],
   "source": [
    "# unpacking the confusion matrix\n",
    "pruned_tree_tn, \\\n",
    "pruned_tree_fp, \\\n",
    "pruned_tree_fn, \\\n",
    "pruned_tree_tp = confusion_matrix(y_true = y_test, y_pred = tree_pruned_pred).ravel()\n",
    "\n",
    "\n",
    "# printing each result one-by-one\n",
    "print(f\"\"\"\n",
    "True Negatives : {pruned_tree_tn}\n",
    "False Positives: {pruned_tree_fp}\n",
    "False Negatives: {pruned_tree_fn}\n",
    "True Positives : {pruned_tree_tp}\n",
    "\"\"\")"
   ]
  },
  {
   "cell_type": "markdown",
   "id": "182f95af",
   "metadata": {},
   "source": [
    "## f) Tuned Decision Tree"
   ]
  },
  {
   "cell_type": "markdown",
   "id": "05da5eeb",
   "metadata": {},
   "source": [
    "### I Tried several combinations and with balanced class weight works better."
   ]
  },
  {
   "cell_type": "code",
   "execution_count": 402,
   "id": "0a073bd9",
   "metadata": {},
   "outputs": [],
   "source": [
    "from sklearn.model_selection import RandomizedSearchCV     # hyperparameter tuning\n",
    "from sklearn.metrics import make_scorer              # customizable scorer\n",
    "# # declaring a hyperparameter space\n",
    "# max_depth_range  = np.arange(0.05, 8.0, 0.05)\n",
    "# min_samples_leaf_rg = np.arange(15, 35, 1)\n",
    "# criterion_range  = ['gini', 'entropy']\n",
    "# splitter_rg      = ['best', 'random']\n",
    "# class_weight_rg  = ['balanced', 'balanced_subsample']\n",
    "# #max_features_rg     = [\"auto\", \"sqrt\", \"log2\"]\n",
    "\n",
    "# # creating a hyperparameter grid\n",
    "# param_grid = {'max_depth'          : max_depth_range, \n",
    "#               'min_samples_leaf' : min_samples_leaf_rg,\n",
    "#               'criterion'  : criterion_range,\n",
    "#              'splitter'    :splitter_rg,\n",
    "#              'class_weight': class_weight_rg}\n",
    "\n",
    "\n",
    "# # INSTANTIATING the model object without hyperparameters\n",
    "# tree_tuned = DecisionTreeClassifier(random_state = 219) # increased for convergence\n",
    "\n",
    "\n",
    "# # GridSearchCV object\n",
    "# tree_tuned_cv = RandomizedSearchCV(estimator           = tree_tuned,   # the model object\n",
    "#                                  param_distributions = param_grid, # parameters to tune\n",
    "#                                  cv                  = 3,          # how many folds in cross-validation\n",
    "#                                  n_iter              = 10000,        # number of combinations of hyperparameters to try\n",
    "#                                  random_state        = 219,        # starting point for random sequence\n",
    "#                                  scoring = make_scorer(\n",
    "#                                            roc_auc_score,\n",
    "#                                            needs_threshold = False)) # scoring criteria (AUC)\n",
    "\n",
    "\n",
    "# # FITTING to the FULL DATASET (due to cross-validation)\n",
    "# tree_tuned_cv.fit(got_data, got_target)\n",
    "\n",
    "\n",
    "# # PREDICT step is not needed\n",
    "\n",
    "\n",
    "# # printing the optimal parameters and best score\n",
    "# print(\"Tuned Parameters  :\", tree_tuned_cv.best_params_)\n",
    "# print(\"Tuned CV AUC      :\", tree_tuned_cv.best_score_.round(4))"
   ]
  },
  {
   "cell_type": "code",
   "execution_count": 403,
   "id": "987450e0",
   "metadata": {},
   "outputs": [
    {
     "name": "stdout",
     "output_type": "stream",
     "text": [
      "Training ACCURACY: 0.7413\n",
      "Testing  ACCURACY: 0.8103\n",
      "AUC Score        : 0.82\n"
     ]
    }
   ],
   "source": [
    "# INSTANTIATING a classification tree object\n",
    "tree_tuned = DecisionTreeClassifier(\n",
    "                    max_depth = 6.2, #try always 4 or 5 \n",
    "                    min_samples_leaf = 17,\n",
    "                    random_state = 219,\n",
    "                    criterion = 'entropy',\n",
    "                    splitter = 'random',\n",
    "                     class_weight =  'balanced'  )\n",
    "\n",
    "\n",
    "# FITTING the training data\n",
    "tree_tuned_fit = tree_tuned.fit(x_train, y_train)\n",
    "\n",
    "\n",
    "# PREDICTING on new data\n",
    "tree_tuned_pred = tree_tuned_fit.predict(x_test)\n",
    "\n",
    "\n",
    "# SCORING the model\n",
    "print('Training ACCURACY:', tree_tuned_fit.score(x_train, y_train).round(4))\n",
    "print('Testing  ACCURACY:', tree_tuned_fit.score(x_test, y_test ).round(4))\n",
    "print('AUC Score        :', roc_auc_score(y_true  = y_test,\n",
    "                                          y_score = tree_tuned_pred).round(4))\n",
    "\n",
    "\n",
    "# saving scoring data for future use\n",
    "tuned_tree_train_score = tree_tuned_fit.score(x_train, y_train).round(4) # accuracy\n",
    "tuned_tree_test_score  = tree_tuned_fit.score(x_test, y_test).round(4) # accuracy\n",
    "\n",
    "\n",
    "# saving auc score\n",
    "tuned_tree_auc_score   = roc_auc_score(y_true  = y_test,\n",
    "                                        y_score = tree_tuned_pred).round(4) # auc"
   ]
  },
  {
   "cell_type": "code",
   "execution_count": 404,
   "id": "81d85a5e",
   "metadata": {},
   "outputs": [
    {
     "name": "stdout",
     "output_type": "stream",
     "text": [
      "\n",
      "True Negatives : 42\n",
      "False Positives: 8\n",
      "False Negatives: 29\n",
      "True Positives : 116\n",
      "\n"
     ]
    }
   ],
   "source": [
    "# unpacking the confusion matrix\n",
    "tuned_tree_tn, \\\n",
    "tuned_tree_fp, \\\n",
    "tuned_tree_fn, \\\n",
    "tuned_tree_tp = confusion_matrix(y_true = y_test, y_pred = tree_tuned_pred).ravel()\n",
    "\n",
    "\n",
    "# printing each result one-by-one\n",
    "print(f\"\"\"\n",
    "True Negatives : {tuned_tree_tn}\n",
    "False Positives: {tuned_tree_fp}\n",
    "False Negatives: {tuned_tree_fn}\n",
    "True Positives : {tuned_tree_tp}\n",
    "\"\"\")"
   ]
  },
  {
   "cell_type": "markdown",
   "id": "21a30623",
   "metadata": {},
   "source": [
    "## G) Random Forest"
   ]
  },
  {
   "cell_type": "code",
   "execution_count": 405,
   "id": "445e05cf",
   "metadata": {},
   "outputs": [],
   "source": [
    "########################################\n",
    "# plot_feature_importances\n",
    "########################################\n",
    "def plot_feature_importances(model, train, export = False):\n",
    "    \"\"\"\n",
    "    Plots the importance of features from a CART model.\n",
    "    \n",
    "    PARAMETERS\n",
    "    ----------\n",
    "    model  : CART model\n",
    "    train  : explanatory variable training data\n",
    "    export : whether or not to export as a .png image, default False\n",
    "    \"\"\"\n",
    "    \n",
    "    # declaring the number\n",
    "    n_features = train.shape[1]\n",
    "    \n",
    "    # setting plot window\n",
    "    fig, ax = plt.subplots(figsize=(12,9))\n",
    "    \n",
    "    plt.barh(range(n_features), model.feature_importances_, align='center')\n",
    "    plt.yticks(np.arange(n_features), train.columns)\n",
    "    plt.xlabel(\"Feature importance\")\n",
    "    plt.ylabel(\"Feature\")\n",
    "    \n",
    "    if export == True:\n",
    "        plt.savefig('./analysis_images/Feature_Importance.png')"
   ]
  },
  {
   "cell_type": "code",
   "execution_count": 406,
   "id": "10c2f7f0",
   "metadata": {},
   "outputs": [],
   "source": [
    "# train/test split with the logit_sig variables\n",
    "got_data   =  got.loc[:, candidate_dict['logit_sig_3']]\n",
    "got_target =  got.loc[:, 'isAlive']\n",
    "\n",
    "\n",
    "# train/test split\n",
    "x_train, x_test, y_train, y_test = train_test_split(\n",
    "            got_data,\n",
    "            got_target,\n",
    "            random_state = 219,\n",
    "            test_size    = 0.1,\n",
    "            stratify     = got_target)"
   ]
  },
  {
   "cell_type": "code",
   "execution_count": 407,
   "id": "18135256",
   "metadata": {},
   "outputs": [],
   "source": [
    "# new tools\n",
    "from sklearn.ensemble import RandomForestClassifier     # random forest\n",
    "from sklearn.ensemble import GradientBoostingClassifier # gbm\n",
    "# INSTANTIATING a random forest model with default values\n",
    "rf_default = RandomForestClassifier(n_estimators     = 100,\n",
    "                                    criterion        = 'gini',\n",
    "                                    max_depth        = None,\n",
    "                                    min_samples_leaf = 1,\n",
    "                                    bootstrap        = True,\n",
    "                                    warm_start       = False,\n",
    "                                    random_state     = 219)"
   ]
  },
  {
   "cell_type": "code",
   "execution_count": 408,
   "id": "e2d29fa6",
   "metadata": {},
   "outputs": [
    {
     "name": "stdout",
     "output_type": "stream",
     "text": [
      "Training ACCURACY: 0.8881\n",
      "Testing  ACCURACY: 0.8256\n",
      "AUC Score        : 0.7321\n"
     ]
    }
   ],
   "source": [
    "# FITTING the training data\n",
    "rf_default_fit = rf_default.fit(x_train, y_train)\n",
    "\n",
    "\n",
    "# PREDICTING based on the testing set\n",
    "rf_default_fit_pred = rf_default_fit.predict(x_test)\n",
    "\n",
    "\n",
    "# SCORING the results\n",
    "print('Training ACCURACY:', rf_default_fit.score(x_train, y_train).round(4))\n",
    "print('Testing  ACCURACY:', rf_default_fit.score(x_test, y_test).round(4))\n",
    "random_forest_train = rf_default_fit.score(x_train, y_train).round(4)\n",
    "random_forest_test = rf_default_fit.score(x_test, y_test).round(4)\n",
    "random_forest_auc_score = roc_auc_score(y_true  = y_test,\n",
    "                                          y_score = rf_default_fit_pred).round(4)\n",
    "# saving AUC score\n",
    "print('AUC Score        :', roc_auc_score(y_true  = y_test,\n",
    "                                          y_score = rf_default_fit_pred).round(4))"
   ]
  },
  {
   "cell_type": "code",
   "execution_count": 409,
   "id": "81e9a318",
   "metadata": {},
   "outputs": [
    {
     "data": {
      "image/png": "[encoded data removed]",
      "text/plain": [
       "<Figure size 864x648 with 1 Axes>"
      ]
     },
     "metadata": {
      "needs_background": "light"
     },
     "output_type": "display_data"
    }
   ],
   "source": [
    "# plotting feature importances\n",
    "plot_feature_importances(rf_default_fit, x_train)"
   ]
  },
  {
   "cell_type": "code",
   "execution_count": 410,
   "id": "1c4822f3",
   "metadata": {},
   "outputs": [
    {
     "name": "stdout",
     "output_type": "stream",
     "text": [
      "\n",
      "True Negatives : 27\n",
      "False Positives: 23\n",
      "False Negatives: 11\n",
      "True Positives : 134\n",
      "\n"
     ]
    }
   ],
   "source": [
    "# unpacking the confusion matrix\n",
    "rf_tn, \\\n",
    "rf_fp, \\\n",
    "rf_fn, \\\n",
    "rf_tp = confusion_matrix(y_true = y_test, y_pred = rf_default_fit_pred).ravel()\n",
    "\n",
    "\n",
    "# printing each result one-by-one\n",
    "print(f\"\"\"\n",
    "True Negatives : {rf_tn}\n",
    "False Positives: {rf_fp}\n",
    "False Negatives: {rf_fn}\n",
    "True Positives : {rf_tp}\n",
    "\"\"\")"
   ]
  },
  {
   "cell_type": "markdown",
   "id": "ebfbc208",
   "metadata": {},
   "source": [
    "## h) Tuned Random Forest"
   ]
  },
  {
   "cell_type": "code",
   "execution_count": 411,
   "id": "24847ecc",
   "metadata": {},
   "outputs": [],
   "source": [
    "# # FITTING the training data\n",
    "# rf_default_fit = rf_default.fit(x_train, y_train)\n",
    "\n",
    "\n",
    "# # PREDICTING based on the testing set\n",
    "# rf_default_fit_pred = rf_default_fit.predict(x_test)\n",
    "\n",
    "\n",
    "# # declaring a hyperparameter space\n",
    "# estimator_range  = np.arange(100, 1100, 250)\n",
    "# leaf_range       = np.arange(1, 31, 10)\n",
    "# criterion_range  = ['gini', 'entropy']\n",
    "# bootstrap_range  = [True, False]\n",
    "# warm_start_range = [True, False]\n",
    "\n",
    "\n",
    "# # creating a hyperparameter grid\n",
    "# param_grid = {'n_estimators'     : estimator_range,\n",
    "#               'min_samples_leaf' : leaf_range,\n",
    "#               'criterion'        : criterion_range,\n",
    "#               'bootstrap'        : bootstrap_range,\n",
    "#               'warm_start'       : warm_start_range}\n",
    "\n",
    "\n",
    "# # INSTANTIATING the model object without hyperparameters\n",
    "# forest_grid = RandomForestClassifier(random_state = 219)\n",
    "\n",
    "\n",
    "# # GridSearchCV object\n",
    "# forest_cv = RandomizedSearchCV(estimator           = forest_grid,\n",
    "#                                param_distributions = param_grid,\n",
    "#                                cv         = 3,\n",
    "#                                n_iter     = 1000,\n",
    "#                                scoring    = make_scorer(roc_auc_score,\n",
    "#                                             needs_threshold = False))\n",
    "\n",
    "\n",
    "# # FITTING to the FULL DATASET (due to cross-validation)\n",
    "# forest_cv.fit(got_data, got_target)\n",
    "\n",
    "\n",
    "# # PREDICT step is not needed\n",
    "\n",
    "\n",
    "# # printing the optimal parameters and best score\n",
    "# print(\"Tuned Parameters  :\", forest_cv.best_params_)\n",
    "# print(\"Tuned Training AUC:\", forest_cv.best_score_.round(4))"
   ]
  },
  {
   "cell_type": "code",
   "execution_count": 412,
   "id": "e0281295",
   "metadata": {},
   "outputs": [
    {
     "data": {
      "text/plain": [
       "RandomForestClassifier(random_state=219, warm_start=True)"
      ]
     },
     "execution_count": 412,
     "metadata": {},
     "output_type": "execute_result"
    }
   ],
   "source": [
    "# best estimators based on RandomizedSearchCV\n",
    "forest_cv.best_estimator_"
   ]
  },
  {
   "cell_type": "code",
   "execution_count": 413,
   "id": "ae2c2003",
   "metadata": {},
   "outputs": [
    {
     "name": "stderr",
     "output_type": "stream",
     "text": [
      "C:\\Users\\Dell\\anaconda3\\lib\\site-packages\\sklearn\\ensemble\\_forest.py:587: UserWarning: class_weight presets \"balanced\" or \"balanced_subsample\" are not recommended for warm_start if the fitted data differs from the full dataset. In order to use \"balanced\" weights, use compute_class_weight (\"balanced\", classes, y). In place of y you can use a large enough sample of the full training set target to properly estimate the class frequency distributions. Pass the resulting weights as the class_weight parameter.\n",
      "  warn('class_weight presets \"balanced\" or '\n"
     ]
    },
    {
     "name": "stdout",
     "output_type": "stream",
     "text": [
      "Forest Tuned Training ACCURACY: 0.8504\n",
      "Forest Tuned Testing  ACCURACY: 0.8872\n",
      "Forest Tuned AUC Score        : 0.9045\n"
     ]
    }
   ],
   "source": [
    "# building a model based on hyperparameter tuning results\n",
    "\n",
    "# INSTANTIATING with best_estimator\n",
    "forest_tuned = RandomForestClassifier(criterion='gini', min_samples_leaf=1,\n",
    "                       n_estimators=100, random_state=219, warm_start=True, bootstrap = True,\n",
    "                                      class_weight =  'balanced')\n",
    "\n",
    "\n",
    "# FITTING to the FULL DATASET (due to cross-validation)\n",
    "forest_tuned_fit = forest_tuned.fit(got_data, got_target)\n",
    "\n",
    "\n",
    "# PREDICTING based on the testing set\n",
    "forest_tuned_pred = forest_tuned_fit.predict(x_test)\n",
    "\n",
    "\n",
    "\n",
    "# SCORING the results\n",
    "print('Forest Tuned Training ACCURACY:', forest_tuned.score(x_train, y_train).round(4))\n",
    "print('Forest Tuned Testing  ACCURACY:', forest_tuned.score(x_test, y_test).round(4))\n",
    "print('Forest Tuned AUC Score        :', roc_auc_score(y_true  = y_test,\n",
    "                                                       y_score = forest_tuned_pred).round(4))\n",
    "\n",
    "\n",
    "# saving scoring data for future use\n",
    "forest_tuned_train_score = forest_tuned.score(x_train, y_train).round(4) # accuracy\n",
    "forest_tuned_test_score  = forest_tuned.score(x_test, y_test).round(4)   # accuracy\n",
    "\n",
    "\n",
    "# saving the AUC score\n",
    "forest_tuned_auc = roc_auc_score(y_true  = y_test,\n",
    "                                 y_score = forest_tuned_pred).round(4) # auc"
   ]
  },
  {
   "cell_type": "code",
   "execution_count": 414,
   "id": "6d6792a6",
   "metadata": {},
   "outputs": [
    {
     "data": {
      "image/png": "[encoded data removed]",
      "text/plain": [
       "<Figure size 864x648 with 1 Axes>"
      ]
     },
     "metadata": {
      "needs_background": "light"
     },
     "output_type": "display_data"
    }
   ],
   "source": [
    "# plotting feature importances\n",
    "plot_feature_importances(forest_tuned_fit,\n",
    "                         train = x_train,\n",
    "                         export = False)"
   ]
  },
  {
   "cell_type": "code",
   "execution_count": 415,
   "id": "d0705be4",
   "metadata": {},
   "outputs": [
    {
     "name": "stdout",
     "output_type": "stream",
     "text": [
      "\n",
      "True Negatives : 47\n",
      "False Positives: 3\n",
      "False Negatives: 19\n",
      "True Positives : 126\n",
      "\n"
     ]
    }
   ],
   "source": [
    "# unpacking the confusion matrix\n",
    "tuned_rf_tn, \\\n",
    "tuned_rf_fp, \\\n",
    "tuned_rf_fn, \\\n",
    "tuned_rf_tp = confusion_matrix(y_true = y_test, y_pred = forest_tuned_pred).ravel()\n",
    "\n",
    "\n",
    "# printing each result one-by-one\n",
    "print(f\"\"\"\n",
    "True Negatives : {tuned_rf_tn}\n",
    "False Positives: {tuned_rf_fp}\n",
    "False Negatives: {tuned_rf_fn}\n",
    "True Positives : {tuned_rf_tp}\n",
    "\"\"\")"
   ]
  },
  {
   "cell_type": "markdown",
   "id": "1b9d0ad0",
   "metadata": {},
   "source": [
    "## i) GBM Model"
   ]
  },
  {
   "cell_type": "code",
   "execution_count": 416,
   "id": "aed3386b",
   "metadata": {},
   "outputs": [
    {
     "name": "stdout",
     "output_type": "stream",
     "text": [
      "Training ACCURACY: 0.8435\n",
      "Testing ACCURACY : 0.8513\n",
      "AUC Score        : 0.7428\n"
     ]
    }
   ],
   "source": [
    "# INSTANTIATING the model object without hyperparameters\n",
    "full_gbm_default = GradientBoostingClassifier(loss          = 'deviance',\n",
    "                                              learning_rate = 0.1,\n",
    "                                              n_estimators  = 100,\n",
    "                                              criterion     = 'friedman_mse',\n",
    "                                              max_depth     = 4,\n",
    "                                              warm_start    = False,\n",
    "                                              random_state  = 219)\n",
    "\n",
    "\n",
    "# FIT step is needed as we are not using .best_estimator\n",
    "full_gbm_default_fit = full_gbm_default.fit(x_train, y_train)\n",
    "\n",
    "\n",
    "# PREDICTING based on the testing set\n",
    "full_gbm_default_pred = full_gbm_default_fit.predict(x_test)\n",
    "\n",
    "\n",
    "# SCORING the results\n",
    "print('Training ACCURACY:', full_gbm_default_fit.score(x_train, y_train).round(4))\n",
    "print('Testing ACCURACY :', full_gbm_default_fit.score(x_test, y_test).round(4))\n",
    "print('AUC Score        :', roc_auc_score(y_true  = y_test,\n",
    "                                          y_score = full_gbm_default_pred).round(4))\n",
    "\n",
    "full_gbm_train_score = full_gbm_default_fit.score(x_train, y_train).round(4)\n",
    "full_gbm_test_score = full_gbm_default_fit.score(x_test, y_test).round(4)\n",
    "full_gbm_auc_score = roc_auc_score(y_true  = y_test,\n",
    "                                          y_score = full_gbm_default_pred).round(4)"
   ]
  },
  {
   "cell_type": "code",
   "execution_count": 417,
   "id": "e4f83f96",
   "metadata": {},
   "outputs": [
    {
     "name": "stdout",
     "output_type": "stream",
     "text": [
      "\n",
      "True Negatives : 26\n",
      "False Positives: 24\n",
      "False Negatives: 5\n",
      "True Positives : 140\n",
      "\n"
     ]
    }
   ],
   "source": [
    "# unpacking the confusion matrix\n",
    "gbm_default_tn, \\\n",
    "gbm_default_fp, \\\n",
    "gbm_default_fn, \\\n",
    "gbm_default_tp = confusion_matrix(y_true = y_test, y_pred = full_gbm_default_pred).ravel()\n",
    "\n",
    "\n",
    "# printing each result one-by-one\n",
    "print(f\"\"\"\n",
    "True Negatives : {gbm_default_tn}\n",
    "False Positives: {gbm_default_fp}\n",
    "False Negatives: {gbm_default_fn}\n",
    "True Positives : {gbm_default_tp}\n",
    "\"\"\")"
   ]
  },
  {
   "cell_type": "markdown",
   "id": "da3624c2",
   "metadata": {},
   "source": [
    "## j) Tuned GBM Model"
   ]
  },
  {
   "cell_type": "code",
   "execution_count": 418,
   "id": "6270e868",
   "metadata": {},
   "outputs": [],
   "source": [
    "# # declaring a hyperparameter space\n",
    "# learn_range        = np.arange(0.1, 2.2, 0.5)\n",
    "# estimator_range    = np.arange(100, 501, 25)\n",
    "# depth_range        = np.arange(1, 8, 1)\n",
    "# warm_start_range   = [True, False]\n",
    "\n",
    "# # creating a hyperparameter grid\n",
    "# param_grid = {'learning_rate' : learn_range,\n",
    "#               'max_depth'     : depth_range,\n",
    "#               'n_estimators'  : estimator_range,\n",
    "#               'warm_start'    : warm_start_range}\n",
    "\n",
    "\n",
    "# # INSTANTIATING the model object without hyperparameters\n",
    "# tune_gbm_grid = GradientBoostingClassifier(random_state = 219)\n",
    "\n",
    "\n",
    "# # GridSearchCV object\n",
    "# tune_gbm_cv = RandomizedSearchCV(estimator     = tune_gbm_grid,\n",
    "#                            param_distributions = param_grid,\n",
    "#                            cv                  = 3,\n",
    "#                            n_iter              = 500,\n",
    "#                            random_state        = 219,\n",
    "#                            scoring             = make_scorer(roc_auc_score,\n",
    "#                                                  needs_threshold = False))\n",
    "\n",
    "\n",
    "# # FITTING to the FULL DATASET (due to cross-validation)\n",
    "# tune_gbm_cv.fit(got_data, got_target)\n",
    "\n",
    "\n",
    "# # PREDICT step is not needed\n",
    "\n",
    "\n",
    "# # printing the optimal parameters and best score\n",
    "# print(\"Tuned Parameters  :\", tune_gbm_cv.best_params_)\n",
    "# print(\"Tuned Training AUC:\", tune_gbm_cv.best_score_.round(4))"
   ]
  },
  {
   "cell_type": "code",
   "execution_count": 429,
   "id": "d93b90ab",
   "metadata": {},
   "outputs": [
    {
     "name": "stdout",
     "output_type": "stream",
     "text": [
      "Training ACCURACY: 0.8864\n",
      "Testing  ACCURACY: 0.9333\n",
      "AUC Score        : 0.8897\n"
     ]
    }
   ],
   "source": [
    "# INSTANTIATING with best_estimator\n",
    "gbm_tuned = GradientBoostingClassifier(learning_rate = 1.1,\n",
    "                                       max_depth     = 8,\n",
    "                                       n_estimators  = 500,\n",
    "                                       warm_start    = True,\n",
    "                                       random_state  = 219)\n",
    "\n",
    "\n",
    "# FITTING to the FULL DATASET (due to cross-validation)\n",
    "gbm_tuned_fit = gbm_tuned.fit(got_data, got_target)\n",
    "\n",
    "\n",
    "# PREDICTING based on the testing set\n",
    "gbm_tuned_pred = gbm_tuned_fit.predict(x_test)\n",
    "\n",
    "\n",
    "# SCORING the results\n",
    "print('Training ACCURACY:', gbm_tuned_fit.score(x_train, y_train).round(4))\n",
    "print('Testing  ACCURACY:', gbm_tuned_fit.score(x_test, y_test).round(4))\n",
    "print('AUC Score        :', roc_auc_score(y_true  = y_test,\n",
    "                                          y_score = gbm_tuned_pred).round(4))\n",
    "gbm_tuned_train = gbm_tuned_fit.score(x_train, y_train).round(4)\n",
    "gbm_tuned_test = gbm_tuned_fit.score(x_test, y_test).round(4)\n",
    "gbm_tuned_auc = roc_auc_score(y_true  = y_test,\n",
    "                                          y_score = gbm_tuned_pred).round(4)"
   ]
  },
  {
   "cell_type": "code",
   "execution_count": 420,
   "id": "a2da26de",
   "metadata": {},
   "outputs": [
    {
     "name": "stdout",
     "output_type": "stream",
     "text": [
      "\n",
      "True Negatives : 41\n",
      "False Positives: 9\n",
      "False Negatives: 4\n",
      "True Positives : 141\n",
      "\n"
     ]
    }
   ],
   "source": [
    "# unpacking the confusion matrix\n",
    "gbm_tuned_tn, \\\n",
    "gbm_tuned_fp, \\\n",
    "gbm_tuned_fn, \\\n",
    "gbm_tuned_tp = confusion_matrix(y_true = y_test, y_pred = gbm_tuned_pred).ravel()\n",
    "\n",
    "\n",
    "# printing each result one-by-one\n",
    "print(f\"\"\"\n",
    "True Negatives : {gbm_tuned_tn}\n",
    "False Positives: {gbm_tuned_fp}\n",
    "False Negatives: {gbm_tuned_fn}\n",
    "True Positives : {gbm_tuned_tp}\n",
    "\"\"\")"
   ]
  },
  {
   "cell_type": "markdown",
   "id": "1b8eafaf",
   "metadata": {},
   "source": [
    "## k) KNN Neighbors Model"
   ]
  },
  {
   "cell_type": "code",
   "execution_count": 421,
   "id": "86eeec23",
   "metadata": {},
   "outputs": [
    {
     "name": "stdout",
     "output_type": "stream",
     "text": [
      "Training ACCURACY: 0.7875\n",
      "Testing  ACCURACY: 0.8256\n",
      "AUC Score        : 0.7124\n"
     ]
    }
   ],
   "source": [
    "# INSTANTIATING StandardScaler()\n",
    "scaler = StandardScaler()\n",
    "\n",
    "\n",
    "# FITTING the data\n",
    "scaler.fit(got_data)\n",
    "\n",
    "\n",
    "# TRANSFORMING the data\n",
    "x_scaled     = scaler.transform(got_data)\n",
    "\n",
    "\n",
    "# converting to a DataFrame\n",
    "x_scaled_df  = pd.DataFrame(x_scaled) \n",
    "\n",
    "\n",
    "# train-test split with the scaled data\n",
    "x_train_scaled, x_test_scaled, y_train_scaled, y_test_scaled = train_test_split(\n",
    "            x_scaled_df,\n",
    "            got_target,\n",
    "            random_state = 219,\n",
    "            test_size    = 0.1,\n",
    "            stratify     = got_target)\n",
    "\n",
    "\n",
    "# INSTANTIATING a KNN classification model with optimal neighbors\n",
    "knn_opt = KNeighborsClassifier(n_neighbors =30)\n",
    "\n",
    "\n",
    "# FITTING the training data\n",
    "knn_fit = knn_opt.fit(x_train_scaled, y_train_scaled)\n",
    "\n",
    "\n",
    "# PREDICTING based on the testing set\n",
    "knn_pred = knn_fit.predict(x_test_scaled)\n",
    "\n",
    "\n",
    "# SCORING the results\n",
    "print('Training ACCURACY:', knn_fit.score(x_train_scaled, y_train_scaled).round(4))\n",
    "print('Testing  ACCURACY:', knn_fit.score(x_test_scaled, y_test_scaled).round(4))\n",
    "print('AUC Score        :', roc_auc_score(y_true  = y_test_scaled,\n",
    "                                          y_score = knn_pred).round(4))\n",
    "\n",
    "\n",
    "# saving scoring data\n",
    "knn_train_score = knn_fit.score(x_train_scaled, y_train_scaled).round(4)\n",
    "knn_test_score  = knn_fit.score(x_test_scaled, y_test_scaled).round(4)\n",
    "\n",
    "\n",
    "# saving AUC score\n",
    "knn_auc_score   =  roc_auc_score(y_true  = y_test_scaled,\n",
    "                                          y_score = knn_pred).round(4)"
   ]
  },
  {
   "cell_type": "code",
   "execution_count": 422,
   "id": "0a95b954",
   "metadata": {},
   "outputs": [
    {
     "data": {
      "image/png": "[encoded data removed]",
      "text/plain": [
       "<Figure size 864x576 with 1 Axes>"
      ]
     },
     "metadata": {
      "needs_background": "light"
     },
     "output_type": "display_data"
    }
   ],
   "source": [
    "# creating lists for training set accuracy and test set accuracy\n",
    "training_accuracy = []\n",
    "test_accuracy     = []\n",
    "\n",
    "\n",
    "# building a visualization of 1 to 50 neighbors\n",
    "neighbors_settings = range(1, 51)\n",
    "\n",
    "\n",
    "for n_neighbors in neighbors_settings:\n",
    "    # Building the model\n",
    "    clf = KNeighborsRegressor(n_neighbors = n_neighbors)\n",
    "    clf.fit(x_train, y_train)\n",
    "    \n",
    "    # Recording the training set accuracy\n",
    "    training_accuracy.append(clf.score(x_train, y_train))\n",
    "    \n",
    "    # Recording the generalization accuracy\n",
    "    test_accuracy.append(clf.score(x_test, y_test))\n",
    "\n",
    "\n",
    "# plotting the visualization\n",
    "fig, ax = plt.subplots(figsize=(12,8))\n",
    "plt.plot(neighbors_settings, training_accuracy, label = \"training accuracy\")\n",
    "plt.plot(neighbors_settings, test_accuracy, label = \"test accuracy\")\n",
    "plt.ylabel(\"Accuracy\")\n",
    "plt.xlabel(\"n_neighbors\")\n",
    "plt.legend()\n",
    "plt.show()"
   ]
  },
  {
   "cell_type": "code",
   "execution_count": 423,
   "id": "3aeba05b",
   "metadata": {},
   "outputs": [
    {
     "name": "stdout",
     "output_type": "stream",
     "text": [
      "\n",
      "True Negatives : 24\n",
      "False Positives: 26\n",
      "False Negatives: 8\n",
      "True Positives : 137\n",
      "\n"
     ]
    }
   ],
   "source": [
    "# unpacking the confusion matrix\n",
    "knn_tn, \\\n",
    "knn_fp, \\\n",
    "knn_fn, \\\n",
    "knn_tp = confusion_matrix(y_true = y_test, y_pred = knn_pred).ravel()\n",
    "\n",
    "\n",
    "# printing each result one-by-one\n",
    "print(f\"\"\"\n",
    "True Negatives : {knn_tn}\n",
    "False Positives: {knn_fp}\n",
    "False Negatives: {knn_fn}\n",
    "True Positives : {knn_tp}\n",
    "\"\"\")"
   ]
  },
  {
   "cell_type": "markdown",
   "id": "4143ec5c",
   "metadata": {},
   "source": [
    "# 7) Comparing the score of different regression models "
   ]
  },
  {
   "cell_type": "markdown",
   "id": "85bfe85e",
   "metadata": {},
   "source": [
    "### After analysing the final result of the different models, I chose the tuned random forest tree regression model because it has the better AUC and the GAP between the Train and Test Score is less than 4%. "
   ]
  },
  {
   "cell_type": "code",
   "execution_count": 430,
   "id": "647610f9",
   "metadata": {},
   "outputs": [
    {
     "name": "stdout",
     "output_type": "stream",
     "text": [
      "\n",
      "Model                             Train Score      Test Score      AUC Score       Confussion Matrix (TN, FP, FN, TP)\n",
      "-----                             -----------      ---------       ---------       -----------------\n",
      "Log Regression                    0.781            0.851           0.776             31, 19, 10, 135 \n",
      "Tuned Log Regression              0.759            0.836           0.824             40, 10, 22, 123\n",
      "Full Tree Regression              0.888            0.81            0.735             29, 21, 16, 129\n",
      "Pruned Tree Regression            0.792            0.862           0.737             24, 26, 1, 144\n",
      "Tuned Tree Regression             0.741            0.81            0.82              42, 8, 29, 116\n",
      "Random Forest                     0.888            0.826           0.732             27, 23, 11, 134\n",
      "****************************************************************************************************\n",
      "Random Forest Tuned (Final Model) 0.85             0.887           0.904             47, 3, 19, 126\n",
      "****************************************************************************************************\n",
      "GBM Regression                    0.844            0.851           0.743             26, 24, 5, 140\n",
      "GBM Regression Tuned              0.886            0.933           0.89             41, 9, 4, 141\n",
      "KNN Regression                    0.788            0.826           0.712             24, 26, 8, 137  \n",
      "\n"
     ]
    }
   ],
   "source": [
    "print(f\"\"\"\n",
    "Model                             Train Score      Test Score      AUC Score       Confussion Matrix (TN, FP, FN, TP)\n",
    "-----                             -----------      ---------       ---------       -----------------\n",
    "Log Regression                    {round(logreg_train_score,3)}            {round(logreg_test_score,3)}           {round(logreg_auc_score,3)}             {logreg_tn}, {logreg_fp}, {logreg_fn}, {logreg_tp} \n",
    "Tuned Log Regression              {round(lr_tuned_train_score,3)}            {round(lr_tuned_test_score,3)}           {round(lr_tuned_auc,3)}             {tuned_logreg_tn}, {tuned_logreg_fp}, {tuned_logreg_fn}, {tuned_logreg_tp}\n",
    "Full Tree Regression              {round(full_tree_train_score,3)}            {round(full_tree_test_score,3)}            {round(full_tree_auc_score,3)}             {full_tree_tn}, {full_tree_fp}, {full_tree_fn}, {full_tree_tp}\n",
    "Pruned Tree Regression            {round(pruned_tree_train_score,3)}            {round(pruned_tree_test_score,3)}           {round(pruned_tree_auc_score,3)}             {pruned_tree_tn}, {pruned_tree_fp}, {pruned_tree_fn}, {pruned_tree_tp}\n",
    "Tuned Tree Regression             {round(tuned_tree_train_score,3)}            {round(tuned_tree_test_score,3)}            {round(tuned_tree_auc_score,3)}              {tuned_tree_tn}, {tuned_tree_fp}, {tuned_tree_fn}, {tuned_tree_tp}\n",
    "Random Forest                     {round(random_forest_train,3)}            {round(random_forest_test,3)}           {round(random_forest_auc_score,3)}             {rf_tn}, {rf_fp}, {rf_fn}, {rf_tp}\n",
    "{'*' * 100}\n",
    "Random Forest Tuned (Final Model) {round(forest_tuned_train_score,3)}             {round(forest_tuned_test_score,3)}           {round(forest_tuned_auc,3)}             {tuned_rf_tn}, {tuned_rf_fp}, {tuned_rf_fn}, {tuned_rf_tp}\n",
    "{'*' * 100}\n",
    "GBM Regression                    {round(full_gbm_train_score,3)}            {round(full_gbm_test_score,3)}           {round(full_gbm_auc_score,3)}             {gbm_default_tn}, {gbm_default_fp}, {gbm_default_fn}, {gbm_default_tp}\n",
    "GBM Regression Tuned              {round(gbm_tuned_train,3)}            {round(gbm_tuned_test,3)}           {round(gbm_tuned_auc,3)}             {gbm_tuned_tn}, {gbm_tuned_fp}, {gbm_tuned_fn}, {gbm_tuned_tp}\n",
    "KNN Regression                    {round(knn_train_score,3)}            {round(knn_test_score,3)}           {round(knn_auc_score,3)}             {knn_tn}, {knn_fp}, {knn_fn}, {knn_tp}  \n",
    "\"\"\")"
   ]
  },
  {
   "cell_type": "code",
   "execution_count": null,
   "id": "b1def160",
   "metadata": {},
   "outputs": [],
   "source": []
  }
 ],
 "metadata": {
  "kernelspec": {
   "display_name": "Python 3 (ipykernel)",
   "language": "python",
   "name": "python3"
  },
  "language_info": {
   "codemirror_mode": {
    "name": "ipython",
    "version": 3
   },
   "file_extension": ".py",
   "mimetype": "text/x-python",
   "name": "python",
   "nbconvert_exporter": "python",
   "pygments_lexer": "ipython3",
   "version": "3.8.8"
  },
  "toc": {
   "base_numbering": 1,
   "nav_menu": {},
   "number_sections": true,
   "sideBar": true,
   "skip_h1_title": false,
   "title_cell": "Table of Contents",
   "title_sidebar": "Contents",
   "toc_cell": false,
   "toc_position": {},
   "toc_section_display": true,
   "toc_window_display": false
  },
  "varInspector": {
   "cols": {
    "lenName": 16,
    "lenType": 16,
    "lenVar": 40
   },
   "kernels_config": {
    "python": {
     "delete_cmd_postfix": "",
     "delete_cmd_prefix": "del ",
     "library": "var_list.py",
     "varRefreshCmd": "print(var_dic_list())"
    },
    "r": {
     "delete_cmd_postfix": ") ",
     "delete_cmd_prefix": "rm(",
     "library": "var_list.r",
     "varRefreshCmd": "cat(var_dic_list()) "
    }
   },
   "types_to_exclude": [
    "module",
    "function",
    "builtin_function_or_method",
    "instance",
    "_Feature"
   ],
   "window_display": false
  }
 },
 "nbformat": 4,
 "nbformat_minor": 5
}
